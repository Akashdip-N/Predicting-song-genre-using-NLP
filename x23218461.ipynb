{
 "cells": [
  {
   "cell_type": "markdown",
   "metadata": {},
   "source": [
    "## Loading the libraries"
   ]
  },
  {
   "cell_type": "code",
   "execution_count": 1,
   "metadata": {},
   "outputs": [
    {
     "name": "stderr",
     "output_type": "stream",
     "text": [
      "[nltk_data] Downloading package stopwords to /Users/adn-\n",
      "[nltk_data]     mbp/nltk_data...\n",
      "[nltk_data]   Package stopwords is already up-to-date!\n"
     ]
    },
    {
     "name": "stdout",
     "output_type": "stream",
     "text": [
      "2.1.1\n"
     ]
    }
   ],
   "source": [
    "import pandas as pd\n",
    "from nltk.corpus import stopwords\n",
    "import functions\n",
    "import nltk\n",
    "nltk.download('stopwords')\n",
    "\n",
    "# For plotting \n",
    "import seaborn as sns\n",
    "\n",
    "# Model Implementation\n",
    "import tensorflow as tf\n",
    "import numpy as np\n",
    "import xgboost as xgb\n",
    "from ast import literal_eval\n",
    "from sklearn.model_selection import train_test_split\n",
    "from sklearn.metrics import *\n",
    "from tensorflow.keras import Model\n",
    "from tensorflow.keras.layers import *\n",
    "import matplotlib.pyplot as plt\n",
    "print(xgb.__version__)\n",
    "\n",
    "# Used for comparing RNN and CNN\n",
    "from keras.preprocessing import sequence\n"
   ]
  },
  {
   "cell_type": "markdown",
   "metadata": {},
   "source": [
    "## Loading the dataset"
   ]
  },
  {
   "cell_type": "code",
   "execution_count": 2,
   "metadata": {},
   "outputs": [],
   "source": [
    "train_data = pd.read_csv('Dataset/train.csv')"
   ]
  },
  {
   "cell_type": "code",
   "execution_count": 3,
   "metadata": {},
   "outputs": [],
   "source": [
    "train_data = train_data[:70000]"
   ]
  },
  {
   "cell_type": "code",
   "execution_count": 4,
   "metadata": {},
   "outputs": [],
   "source": [
    "test_data = pd.read_csv('dataset/test.csv')"
   ]
  },
  {
   "cell_type": "markdown",
   "metadata": {},
   "source": [
    "## Merging the train and test data together"
   ]
  },
  {
   "cell_type": "code",
   "execution_count": 5,
   "metadata": {},
   "outputs": [],
   "source": [
    "# The dataset variable is created by concatenating two DataFrames: train_data and test_data.\n",
    "\n",
    "dataset = pd.concat([train_data, test_data], axis=0)"
   ]
  },
  {
   "cell_type": "code",
   "execution_count": 6,
   "metadata": {},
   "outputs": [],
   "source": [
    "new_dataset = dataset.drop_duplicates()"
   ]
  },
  {
   "cell_type": "code",
   "execution_count": 7,
   "metadata": {},
   "outputs": [],
   "source": [
    "# updating the dataset's index after removing duplicates\n",
    "\n",
    "new_dataset.index = range(new_dataset.index.size)"
   ]
  },
  {
   "cell_type": "code",
   "execution_count": 8,
   "metadata": {},
   "outputs": [
    {
     "data": {
      "text/plain": [
       "array(['Rock', 'Metal', 'Pop', 'Indie', 'R&B', 'Folk', 'Electronic',\n",
       "       'Jazz', 'Hip-Hop', 'Country'], dtype=object)"
      ]
     },
     "execution_count": 8,
     "metadata": {},
     "output_type": "execute_result"
    }
   ],
   "source": [
    "# Printing the unique values in the 'Genre' column\n",
    "\n",
    "new_dataset['Genre'].unique()"
   ]
  },
  {
   "cell_type": "code",
   "execution_count": 9,
   "metadata": {},
   "outputs": [],
   "source": [
    "# Storing the Music Genre Names into a variable\n",
    "\n",
    "class_names = ['pop', 'rock', 'country', 'electronic', 'hip-hop']"
   ]
  },
  {
   "cell_type": "code",
   "execution_count": 10,
   "metadata": {},
   "outputs": [],
   "source": [
    "# Checking for all the unique values in the genre column\n",
    "\n",
    "new_dataset = new_dataset[\n",
    "    (new_dataset['Genre'] == 'Hip-Hop') |\n",
    "    (new_dataset['Genre'] == 'Pop') |\n",
    "    (new_dataset['Genre'] == 'Country') |\n",
    "    (new_dataset['Genre'] == 'Rock') |\n",
    "    (new_dataset['Genre'] == 'Electronic')\n",
    "]"
   ]
  },
  {
   "cell_type": "code",
   "execution_count": 11,
   "metadata": {},
   "outputs": [],
   "source": [
    "new_dataset['Lyrics'] = new_dataset['Lyrics'].astype(str)"
   ]
  },
  {
   "cell_type": "code",
   "execution_count": 12,
   "metadata": {},
   "outputs": [],
   "source": [
    "new_dataset['Lyrics'] = functions.clean_data(new_dataset['Lyrics'])"
   ]
  },
  {
   "cell_type": "markdown",
   "metadata": {},
   "source": [
    "## Data Preprocessing"
   ]
  },
  {
   "cell_type": "code",
   "execution_count": 13,
   "metadata": {},
   "outputs": [],
   "source": [
    "# Removing songs with no lyrics\n",
    "\n",
    "new_dataset = new_dataset.drop(\n",
    "    new_dataset[new_dataset['Lyrics'].str.len() == 0].index\n",
    ")"
   ]
  },
  {
   "cell_type": "code",
   "execution_count": 14,
   "metadata": {},
   "outputs": [
    {
     "data": {
      "text/plain": [
       "Genre\n",
       "Country         810\n",
       "Electronic      755\n",
       "Hip-Hop         960\n",
       "Pop            8069\n",
       "Rock          43009\n",
       "Name: Song, dtype: int64"
      ]
     },
     "execution_count": 14,
     "metadata": {},
     "output_type": "execute_result"
    }
   ],
   "source": [
    "# Grouping the data by artist and genre\n",
    "\n",
    "new_dataset.groupby('Genre')['Song'].count()"
   ]
  },
  {
   "cell_type": "code",
   "execution_count": 15,
   "metadata": {},
   "outputs": [
    {
     "data": {
      "text/plain": [
       "755"
      ]
     },
     "execution_count": 15,
     "metadata": {},
     "output_type": "execute_result"
    }
   ],
   "source": [
    "minimum_songs = min(new_dataset.groupby('Genre')['Song'].count())\n",
    "minimum_songs"
   ]
  },
  {
   "cell_type": "code",
   "execution_count": 16,
   "metadata": {},
   "outputs": [],
   "source": [
    "# Iterating over each unique genre in the 'Genre' column of the dataset\n",
    "for genre in new_dataset['Genre'].unique():\n",
    "    \n",
    "    # Checking if the number of songs in the current genre is less than twice the minimum number of songs in any genre\n",
    "    if new_dataset[new_dataset['Genre'] == genre]['Song'].size < (2 * minimum_songs):\n",
    "        \n",
    "        # Creating a copy of all rows in the dataset that belongs to the current genre\n",
    "        data_copy = new_dataset[new_dataset['Genre'] == genre].copy()\n",
    "        \n",
    "        # Concatenate the copied rows back to the original dataset\n",
    "        new_dataset = pd.concat([new_dataset, data_copy], axis=0)"
   ]
  },
  {
   "cell_type": "code",
   "execution_count": 17,
   "metadata": {},
   "outputs": [],
   "source": [
    "# Reset the index of the DataFrame to a sequential integer range starting from 0\n",
    "\n",
    "new_dataset.index = range(new_dataset.index.size)"
   ]
  },
  {
   "cell_type": "code",
   "execution_count": 18,
   "metadata": {},
   "outputs": [],
   "source": [
    "# Iterating over each unique genre in the 'Genre' column of the dataset\n",
    "for genre in new_dataset['Genre'].unique():\n",
    "    \n",
    "    # Find the maximum index ID of the song in the current genre that falls within the threshold of 2 * minimum_songs\n",
    "    maxID = new_dataset[new_dataset['Genre'] == genre].index[2 * minimum_songs - 1]\n",
    "    \n",
    "    # Drop the rows where the genre matches the current genre AND the index is greater than maxID\n",
    "    new_dataset = new_dataset.drop(new_dataset[(new_dataset['Genre'] == genre) & (new_dataset.index > maxID)].index)"
   ]
  },
  {
   "cell_type": "code",
   "execution_count": 19,
   "metadata": {},
   "outputs": [
    {
     "data": {
      "text/plain": [
       "Genre\n",
       "Country       1510\n",
       "Electronic    1510\n",
       "Hip-Hop       1510\n",
       "Pop           1510\n",
       "Rock          1510\n",
       "Name: Song, dtype: int64"
      ]
     },
     "execution_count": 19,
     "metadata": {},
     "output_type": "execute_result"
    }
   ],
   "source": [
    "new_dataset.groupby('Genre')['Song'].count()"
   ]
  },
  {
   "cell_type": "markdown",
   "metadata": {},
   "source": [
    "## Tokenization and removal of unnecessary words"
   ]
  },
  {
   "cell_type": "code",
   "execution_count": 20,
   "metadata": {},
   "outputs": [],
   "source": [
    "# Appling the split_data function to the 'Lyrics' column of the new_dataset DataFrame\n",
    "\n",
    "new_dataset['Lyrics'] = functions.split_data(new_dataset['Lyrics'])"
   ]
  },
  {
   "cell_type": "code",
   "execution_count": 21,
   "metadata": {},
   "outputs": [],
   "source": [
    "# Removing and storing the stop words from the lyrics column\n",
    "\n",
    "# Importing the set of English stopwords from the NLTK library\n",
    "stop_words = set(stopwords.words('english'))\n",
    "\n",
    "# Initialize an empty list to store the processed lyrics\n",
    "new_songs = []\n",
    "\n",
    "# Iterating over each list of words in the 'Lyrics' column of the new_dataset DataFrame\n",
    "for value in new_dataset['Lyrics']:\n",
    "    \n",
    "    # Filtering out any words in the current list that are found in the stop_words set\n",
    "    value = [w for w in value if not w in stop_words]\n",
    "    \n",
    "    # Appending the filtered list of words to the new_songs list\n",
    "    new_songs.append(value)\n",
    "\n",
    "# Assigning the processed list of lyrics back to the 'Lyrics' column of the new_dataset DataFrame\n",
    "new_dataset['Lyrics'] = new_songs"
   ]
  },
  {
   "cell_type": "code",
   "execution_count": 22,
   "metadata": {},
   "outputs": [
    {
     "data": {
      "text/html": [
       "<div>\n",
       "<style scoped>\n",
       "    .dataframe tbody tr th:only-of-type {\n",
       "        vertical-align: middle;\n",
       "    }\n",
       "\n",
       "    .dataframe tbody tr th {\n",
       "        vertical-align: top;\n",
       "    }\n",
       "\n",
       "    .dataframe thead th {\n",
       "        text-align: right;\n",
       "    }\n",
       "</style>\n",
       "<table border=\"1\" class=\"dataframe\">\n",
       "  <thead>\n",
       "    <tr style=\"text-align: right;\">\n",
       "      <th></th>\n",
       "      <th>Lyrics</th>\n",
       "      <th>Genre</th>\n",
       "    </tr>\n",
       "  </thead>\n",
       "  <tbody>\n",
       "    <tr>\n",
       "      <th>0</th>\n",
       "      <td>[starts, pain, , followed, hate, fueled, endle...</td>\n",
       "      <td>Rock</td>\n",
       "    </tr>\n",
       "    <tr>\n",
       "      <th>1</th>\n",
       "      <td>[freedom, , alone, alone, patiently, waiting, ...</td>\n",
       "      <td>Rock</td>\n",
       "    </tr>\n",
       "    <tr>\n",
       "      <th>2</th>\n",
       "      <td>[biting, hand, feeds, , lying, voice, inside, ...</td>\n",
       "      <td>Rock</td>\n",
       "    </tr>\n",
       "    <tr>\n",
       "      <th>3</th>\n",
       "      <td>[say, know, cant, imagine, waits, across, line...</td>\n",
       "      <td>Rock</td>\n",
       "    </tr>\n",
       "    <tr>\n",
       "      <th>4</th>\n",
       "      <td>[heart, beating, faster, cant, control, feelin...</td>\n",
       "      <td>Rock</td>\n",
       "    </tr>\n",
       "  </tbody>\n",
       "</table>\n",
       "</div>"
      ],
      "text/plain": [
       "                                              Lyrics Genre\n",
       "0  [starts, pain, , followed, hate, fueled, endle...  Rock\n",
       "1  [freedom, , alone, alone, patiently, waiting, ...  Rock\n",
       "2  [biting, hand, feeds, , lying, voice, inside, ...  Rock\n",
       "3  [say, know, cant, imagine, waits, across, line...  Rock\n",
       "4  [heart, beating, faster, cant, control, feelin...  Rock"
      ]
     },
     "execution_count": 22,
     "metadata": {},
     "output_type": "execute_result"
    }
   ],
   "source": [
    "new_dataset = new_dataset[['Lyrics', 'Genre']]\n",
    "new_dataset.head()"
   ]
  },
  {
   "cell_type": "code",
   "execution_count": 23,
   "metadata": {},
   "outputs": [],
   "source": [
    "# Saving the cleaned dataset to a new CSV file\n",
    "\n",
    "new_dataset.to_csv('clean_data.csv', index = False)"
   ]
  },
  {
   "cell_type": "markdown",
   "metadata": {},
   "source": [
    "# Implementing models"
   ]
  },
  {
   "cell_type": "code",
   "execution_count": 24,
   "metadata": {},
   "outputs": [],
   "source": [
    "# Read the cleaned dataset from the CSV file\n",
    "\n",
    "dataset = pd.read_csv(\n",
    "    'clean_data.csv',\n",
    "    converters = {\n",
    "        'Lyrics': literal_eval\n",
    "    }\n",
    ")"
   ]
  },
  {
   "cell_type": "code",
   "execution_count": 25,
   "metadata": {},
   "outputs": [],
   "source": [
    "# Storing the lyrics and genre columns in separate variables\n",
    "\n",
    "lyrics = dataset['Lyrics']\n",
    "genre = dataset['Genre']"
   ]
  },
  {
   "cell_type": "code",
   "execution_count": 26,
   "metadata": {},
   "outputs": [],
   "source": [
    "# Train and test splitting the data\n",
    "\n",
    "X_train, X_test, y_train, y_test = train_test_split(\n",
    "    lyrics, genre, test_size=0.25, random_state=42, stratify = genre\n",
    ")\n",
    "\n",
    "# Storing 25% of the training data for validation purposes that is 18.75% of the original dataset\n",
    "X_train, X_val, y_train, y_val = train_test_split(\n",
    "    X_train, y_train, test_size=0.25, random_state=42, stratify = y_train\n",
    ")"
   ]
  },
  {
   "cell_type": "code",
   "execution_count": 27,
   "metadata": {},
   "outputs": [
    {
     "name": "stdout",
     "output_type": "stream",
     "text": [
      "Shape of X_train:  (4246,)\n",
      "Shape of X_val:  (1416,)\n",
      "Shape of X_test:  (1888,)\n",
      "Shape of y_train:  (4246,)\n",
      "Shape of y_val:  (1416,)\n",
      "Shape of y_test:  (1888,)\n"
     ]
    }
   ],
   "source": [
    "# Printing the shape of the training, validation, and testing datasets\n",
    "\n",
    "print(\"Shape of X_train: \", X_train.shape)\n",
    "print(\"Shape of X_val: \", X_val.shape)\n",
    "print(\"Shape of X_test: \", X_test.shape)\n",
    "print(\"Shape of y_train: \", y_train.shape)\n",
    "print(\"Shape of y_val: \", y_val.shape)\n",
    "print(\"Shape of y_test: \", y_test.shape)"
   ]
  },
  {
   "cell_type": "markdown",
   "metadata": {},
   "source": [
    "### Implemeting tf-idf"
   ]
  },
  {
   "cell_type": "code",
   "execution_count": 28,
   "metadata": {},
   "outputs": [],
   "source": [
    "# Creating a vocabulary of the top 10,000 most frequently occurring words in the training set\n",
    "\n",
    "stopwords = functions.create_vocab(X_train, 10000)\n",
    "stopwords_len = len(stopwords)"
   ]
  },
  {
   "cell_type": "code",
   "execution_count": 29,
   "metadata": {},
   "outputs": [],
   "source": [
    "# Function to calculate document frequencies for a list of words in a dataset\n",
    "def create_doc_frequencies(data):\n",
    "    # Initialize an empty dictionary to store document frequencies of each word\n",
    "    docFrequencies = {}\n",
    "    \n",
    "    # Get the total number of documents (rows) in the dataset\n",
    "    numDocuments = X_train.shape[0]\n",
    "    \n",
    "    # Iterate over each word in the stopwords list (or set)\n",
    "    for word in stopwords:\n",
    "        # Initialize a counter for the number of documents that contain the word\n",
    "        docFrequency = 0\n",
    "        \n",
    "        # Iterate over each document (text) in the dataset\n",
    "        for text in data:\n",
    "            # If the word is present in the current document, increment the counter\n",
    "            if word in text:\n",
    "                docFrequency += 1\n",
    "        \n",
    "        # Calculate the ratio of documents containing the word and store it in the dictionary\n",
    "        docFrequencies[word] = docFrequency / numDocuments\n",
    "    \n",
    "    # Return the dictionary containing the document frequencies\n",
    "    return docFrequencies"
   ]
  },
  {
   "cell_type": "code",
   "execution_count": 30,
   "metadata": {},
   "outputs": [],
   "source": [
    "# Creating doc frequency\n",
    "\n",
    "docFrequencies = create_doc_frequencies(X_train)"
   ]
  },
  {
   "cell_type": "code",
   "execution_count": 31,
   "metadata": {},
   "outputs": [],
   "source": [
    "# Function to create TF-IDF representations for the given data\n",
    "def create_tf_idf(data, docFrequencies):\n",
    "    # Initializing an empty list to store the TF-IDF representations\n",
    "    newData = []\n",
    "    \n",
    "    # Converting the document frequencies dictionary into a list of values\n",
    "    docFrequenciesList = list(docFrequencies.values())\n",
    "    \n",
    "    # Iterating over each document (list of words) in the dataset\n",
    "    for text in data:\n",
    "        # Initializing a bag of words representation with zeros\n",
    "        bag = [0] * stopwords_len\n",
    "        \n",
    "        # Iterating over each word in the document\n",
    "        for word in text:\n",
    "            # If the word is in the stopwords list, increment its count in the bag\n",
    "            if word in stopwords:\n",
    "                bag[stopwords[word]] += 1\n",
    "        \n",
    "        # Converting the bag of words into a term frequency (TF) representation\n",
    "        for i in range(len(bag)):\n",
    "            bag[i] = bag[i] / len(text)  # Normalize by the total number of words in the document\n",
    "            \n",
    "            # Converting the term frequency (TF) into TF-IDF by multiplying by the inverse document frequency (IDF)\n",
    "            bag[i] = bag[i] * np.log(1 / docFrequenciesList[i])\n",
    "        \n",
    "        # Append the TF-IDF vector for the current document to the newData list\n",
    "        newData.append(bag)\n",
    "    \n",
    "    # Return the list of TF-IDF vectors\n",
    "    return newData"
   ]
  },
  {
   "cell_type": "code",
   "execution_count": 32,
   "metadata": {},
   "outputs": [],
   "source": [
    "# creating tf-idf vectors for training, validation, and testing datasets\n",
    "\n",
    "X_train = create_tf_idf(X_train, docFrequencies)\n",
    "X_val = create_tf_idf(X_val, docFrequencies)\n",
    "X_test = create_tf_idf(X_test, docFrequencies)"
   ]
  },
  {
   "cell_type": "code",
   "execution_count": 33,
   "metadata": {},
   "outputs": [],
   "source": [
    "# Converting the genre labels into numerical classes using a mapping function\n",
    "\n",
    "y_train = y_train.apply(lambda x: functions.genre_to_class[x])\n",
    "y_val = y_val.apply(lambda x: functions.genre_to_class[x])\n",
    "y_test = y_test.apply(lambda x: functions.genre_to_class[x])"
   ]
  },
  {
   "cell_type": "code",
   "execution_count": 34,
   "metadata": {},
   "outputs": [],
   "source": [
    "# Converting them into an array\n",
    "\n",
    "X_train = np.array(X_train)\n",
    "X_val = np.array(X_val)\n",
    "X_test = np.array(X_test)\n",
    "y_train = np.array(y_train)\n",
    "y_val = np.array(y_val)\n",
    "y_test = np.array(y_test)"
   ]
  },
  {
   "cell_type": "code",
   "execution_count": 35,
   "metadata": {},
   "outputs": [
    {
     "name": "stdout",
     "output_type": "stream",
     "text": [
      "Shape of X_train:  (4246, 10000)\n",
      "Shape of X_val:  (1416, 10000)\n",
      "Shape of X_test:  (1888, 10000)\n",
      "Shape of y_train:  (4246,)\n",
      "Shape of y_val:  (1416,)\n",
      "Shape of y_test:  (1888,)\n"
     ]
    }
   ],
   "source": [
    "# Printing the shape of the training, validation, and testing datasets\n",
    "\n",
    "print(\"Shape of X_train: \", X_train.shape)\n",
    "print(\"Shape of X_val: \", X_val.shape)\n",
    "print(\"Shape of X_test: \", X_test.shape)\n",
    "print(\"Shape of y_train: \", y_train.shape)\n",
    "print(\"Shape of y_val: \", y_val.shape)\n",
    "print(\"Shape of y_test: \", y_test.shape)"
   ]
  },
  {
   "cell_type": "markdown",
   "metadata": {},
   "source": [
    "## Implementing Deep Neural Network Model Algorithm"
   ]
  },
  {
   "cell_type": "code",
   "execution_count": 36,
   "metadata": {},
   "outputs": [],
   "source": [
    "# Model Deep Neural Network Model code\n",
    "\n",
    "def func_model():\n",
    "    # Define the input layer with a shape corresponding to the length of the stopwords list\n",
    "    input_layer = Input(shape=(stopwords_len,))\n",
    "    \n",
    "    # Flatten the input layer to convert the input into a 1D tensor\n",
    "    flatten = Flatten()(input_layer)\n",
    "    \n",
    "    # First dense layer with 1024 units and ReLU activation function\n",
    "    dense1 = Dense(1024, activation='relu')(flatten)\n",
    "    \n",
    "    # Apply dropout to the first dense layer output to prevent overfitting\n",
    "    dropout1 = Dropout(rate=0.2)(dense1)\n",
    "    \n",
    "    # Second dense layer with 1024 units and ReLU activation\n",
    "    dense2 = Dense(1024, activation='relu')(dropout1)\n",
    "    \n",
    "    # Apply dropout to the second dense layer output to prevent overfitting\n",
    "    dropout2 = Dropout(rate=0.2)(dense2)\n",
    "    \n",
    "    # Concatenate the outputs of the two dense layers and their respective dropout layers\n",
    "    concat = Concatenate()([dense1, dense2, dropout1, dropout2])\n",
    "    \n",
    "    # Define the output layer with 5 units (for 5 classes) and softmax activation\n",
    "    output_layer = Dense(5, activation='softmax')(concat)\n",
    "    \n",
    "    # Create the model with the defined input and output layers\n",
    "    model = Model(inputs=input_layer, outputs=output_layer)\n",
    "    \n",
    "    # Return the constructed model\n",
    "    return model"
   ]
  },
  {
   "cell_type": "code",
   "execution_count": 37,
   "metadata": {},
   "outputs": [],
   "source": [
    "# creating the model\n",
    "\n",
    "model_DNN = func_model()"
   ]
  },
  {
   "cell_type": "code",
   "execution_count": 38,
   "metadata": {},
   "outputs": [
    {
     "data": {
      "text/html": [
       "<pre style=\"white-space:pre;overflow-x:auto;line-height:normal;font-family:Menlo,'DejaVu Sans Mono',consolas,'Courier New',monospace\"><span style=\"font-weight: bold\">Model: \"functional\"</span>\n",
       "</pre>\n"
      ],
      "text/plain": [
       "\u001b[1mModel: \"functional\"\u001b[0m\n"
      ]
     },
     "metadata": {},
     "output_type": "display_data"
    },
    {
     "data": {
      "text/html": [
       "<pre style=\"white-space:pre;overflow-x:auto;line-height:normal;font-family:Menlo,'DejaVu Sans Mono',consolas,'Courier New',monospace\">┏━━━━━━━━━━━━━━━━━━━━━┳━━━━━━━━━━━━━━━━━━━┳━━━━━━━━━━━━┳━━━━━━━━━━━━━━━━━━━┓\n",
       "┃<span style=\"font-weight: bold\"> Layer (type)        </span>┃<span style=\"font-weight: bold\"> Output Shape      </span>┃<span style=\"font-weight: bold\">    Param # </span>┃<span style=\"font-weight: bold\"> Connected to      </span>┃\n",
       "┡━━━━━━━━━━━━━━━━━━━━━╇━━━━━━━━━━━━━━━━━━━╇━━━━━━━━━━━━╇━━━━━━━━━━━━━━━━━━━┩\n",
       "│ input_layer         │ (<span style=\"color: #00d7ff; text-decoration-color: #00d7ff\">None</span>, <span style=\"color: #00af00; text-decoration-color: #00af00\">10000</span>)     │          <span style=\"color: #00af00; text-decoration-color: #00af00\">0</span> │ -                 │\n",
       "│ (<span style=\"color: #0087ff; text-decoration-color: #0087ff\">InputLayer</span>)        │                   │            │                   │\n",
       "├─────────────────────┼───────────────────┼────────────┼───────────────────┤\n",
       "│ flatten (<span style=\"color: #0087ff; text-decoration-color: #0087ff\">Flatten</span>)   │ (<span style=\"color: #00d7ff; text-decoration-color: #00d7ff\">None</span>, <span style=\"color: #00af00; text-decoration-color: #00af00\">10000</span>)     │          <span style=\"color: #00af00; text-decoration-color: #00af00\">0</span> │ input_layer[<span style=\"color: #00af00; text-decoration-color: #00af00\">0</span>][<span style=\"color: #00af00; text-decoration-color: #00af00\">0</span>] │\n",
       "├─────────────────────┼───────────────────┼────────────┼───────────────────┤\n",
       "│ dense (<span style=\"color: #0087ff; text-decoration-color: #0087ff\">Dense</span>)       │ (<span style=\"color: #00d7ff; text-decoration-color: #00d7ff\">None</span>, <span style=\"color: #00af00; text-decoration-color: #00af00\">1024</span>)      │ <span style=\"color: #00af00; text-decoration-color: #00af00\">10,241,024</span> │ flatten[<span style=\"color: #00af00; text-decoration-color: #00af00\">0</span>][<span style=\"color: #00af00; text-decoration-color: #00af00\">0</span>]     │\n",
       "├─────────────────────┼───────────────────┼────────────┼───────────────────┤\n",
       "│ dropout (<span style=\"color: #0087ff; text-decoration-color: #0087ff\">Dropout</span>)   │ (<span style=\"color: #00d7ff; text-decoration-color: #00d7ff\">None</span>, <span style=\"color: #00af00; text-decoration-color: #00af00\">1024</span>)      │          <span style=\"color: #00af00; text-decoration-color: #00af00\">0</span> │ dense[<span style=\"color: #00af00; text-decoration-color: #00af00\">0</span>][<span style=\"color: #00af00; text-decoration-color: #00af00\">0</span>]       │\n",
       "├─────────────────────┼───────────────────┼────────────┼───────────────────┤\n",
       "│ dense_1 (<span style=\"color: #0087ff; text-decoration-color: #0087ff\">Dense</span>)     │ (<span style=\"color: #00d7ff; text-decoration-color: #00d7ff\">None</span>, <span style=\"color: #00af00; text-decoration-color: #00af00\">1024</span>)      │  <span style=\"color: #00af00; text-decoration-color: #00af00\">1,049,600</span> │ dropout[<span style=\"color: #00af00; text-decoration-color: #00af00\">0</span>][<span style=\"color: #00af00; text-decoration-color: #00af00\">0</span>]     │\n",
       "├─────────────────────┼───────────────────┼────────────┼───────────────────┤\n",
       "│ dropout_1 (<span style=\"color: #0087ff; text-decoration-color: #0087ff\">Dropout</span>) │ (<span style=\"color: #00d7ff; text-decoration-color: #00d7ff\">None</span>, <span style=\"color: #00af00; text-decoration-color: #00af00\">1024</span>)      │          <span style=\"color: #00af00; text-decoration-color: #00af00\">0</span> │ dense_1[<span style=\"color: #00af00; text-decoration-color: #00af00\">0</span>][<span style=\"color: #00af00; text-decoration-color: #00af00\">0</span>]     │\n",
       "├─────────────────────┼───────────────────┼────────────┼───────────────────┤\n",
       "│ concatenate         │ (<span style=\"color: #00d7ff; text-decoration-color: #00d7ff\">None</span>, <span style=\"color: #00af00; text-decoration-color: #00af00\">4096</span>)      │          <span style=\"color: #00af00; text-decoration-color: #00af00\">0</span> │ dense[<span style=\"color: #00af00; text-decoration-color: #00af00\">0</span>][<span style=\"color: #00af00; text-decoration-color: #00af00\">0</span>],      │\n",
       "│ (<span style=\"color: #0087ff; text-decoration-color: #0087ff\">Concatenate</span>)       │                   │            │ dense_1[<span style=\"color: #00af00; text-decoration-color: #00af00\">0</span>][<span style=\"color: #00af00; text-decoration-color: #00af00\">0</span>],    │\n",
       "│                     │                   │            │ dropout[<span style=\"color: #00af00; text-decoration-color: #00af00\">0</span>][<span style=\"color: #00af00; text-decoration-color: #00af00\">0</span>],    │\n",
       "│                     │                   │            │ dropout_1[<span style=\"color: #00af00; text-decoration-color: #00af00\">0</span>][<span style=\"color: #00af00; text-decoration-color: #00af00\">0</span>]   │\n",
       "├─────────────────────┼───────────────────┼────────────┼───────────────────┤\n",
       "│ dense_2 (<span style=\"color: #0087ff; text-decoration-color: #0087ff\">Dense</span>)     │ (<span style=\"color: #00d7ff; text-decoration-color: #00d7ff\">None</span>, <span style=\"color: #00af00; text-decoration-color: #00af00\">5</span>)         │     <span style=\"color: #00af00; text-decoration-color: #00af00\">20,485</span> │ concatenate[<span style=\"color: #00af00; text-decoration-color: #00af00\">0</span>][<span style=\"color: #00af00; text-decoration-color: #00af00\">0</span>] │\n",
       "└─────────────────────┴───────────────────┴────────────┴───────────────────┘\n",
       "</pre>\n"
      ],
      "text/plain": [
       "┏━━━━━━━━━━━━━━━━━━━━━┳━━━━━━━━━━━━━━━━━━━┳━━━━━━━━━━━━┳━━━━━━━━━━━━━━━━━━━┓\n",
       "┃\u001b[1m \u001b[0m\u001b[1mLayer (type)       \u001b[0m\u001b[1m \u001b[0m┃\u001b[1m \u001b[0m\u001b[1mOutput Shape     \u001b[0m\u001b[1m \u001b[0m┃\u001b[1m \u001b[0m\u001b[1m   Param #\u001b[0m\u001b[1m \u001b[0m┃\u001b[1m \u001b[0m\u001b[1mConnected to     \u001b[0m\u001b[1m \u001b[0m┃\n",
       "┡━━━━━━━━━━━━━━━━━━━━━╇━━━━━━━━━━━━━━━━━━━╇━━━━━━━━━━━━╇━━━━━━━━━━━━━━━━━━━┩\n",
       "│ input_layer         │ (\u001b[38;5;45mNone\u001b[0m, \u001b[38;5;34m10000\u001b[0m)     │          \u001b[38;5;34m0\u001b[0m │ -                 │\n",
       "│ (\u001b[38;5;33mInputLayer\u001b[0m)        │                   │            │                   │\n",
       "├─────────────────────┼───────────────────┼────────────┼───────────────────┤\n",
       "│ flatten (\u001b[38;5;33mFlatten\u001b[0m)   │ (\u001b[38;5;45mNone\u001b[0m, \u001b[38;5;34m10000\u001b[0m)     │          \u001b[38;5;34m0\u001b[0m │ input_layer[\u001b[38;5;34m0\u001b[0m][\u001b[38;5;34m0\u001b[0m] │\n",
       "├─────────────────────┼───────────────────┼────────────┼───────────────────┤\n",
       "│ dense (\u001b[38;5;33mDense\u001b[0m)       │ (\u001b[38;5;45mNone\u001b[0m, \u001b[38;5;34m1024\u001b[0m)      │ \u001b[38;5;34m10,241,024\u001b[0m │ flatten[\u001b[38;5;34m0\u001b[0m][\u001b[38;5;34m0\u001b[0m]     │\n",
       "├─────────────────────┼───────────────────┼────────────┼───────────────────┤\n",
       "│ dropout (\u001b[38;5;33mDropout\u001b[0m)   │ (\u001b[38;5;45mNone\u001b[0m, \u001b[38;5;34m1024\u001b[0m)      │          \u001b[38;5;34m0\u001b[0m │ dense[\u001b[38;5;34m0\u001b[0m][\u001b[38;5;34m0\u001b[0m]       │\n",
       "├─────────────────────┼───────────────────┼────────────┼───────────────────┤\n",
       "│ dense_1 (\u001b[38;5;33mDense\u001b[0m)     │ (\u001b[38;5;45mNone\u001b[0m, \u001b[38;5;34m1024\u001b[0m)      │  \u001b[38;5;34m1,049,600\u001b[0m │ dropout[\u001b[38;5;34m0\u001b[0m][\u001b[38;5;34m0\u001b[0m]     │\n",
       "├─────────────────────┼───────────────────┼────────────┼───────────────────┤\n",
       "│ dropout_1 (\u001b[38;5;33mDropout\u001b[0m) │ (\u001b[38;5;45mNone\u001b[0m, \u001b[38;5;34m1024\u001b[0m)      │          \u001b[38;5;34m0\u001b[0m │ dense_1[\u001b[38;5;34m0\u001b[0m][\u001b[38;5;34m0\u001b[0m]     │\n",
       "├─────────────────────┼───────────────────┼────────────┼───────────────────┤\n",
       "│ concatenate         │ (\u001b[38;5;45mNone\u001b[0m, \u001b[38;5;34m4096\u001b[0m)      │          \u001b[38;5;34m0\u001b[0m │ dense[\u001b[38;5;34m0\u001b[0m][\u001b[38;5;34m0\u001b[0m],      │\n",
       "│ (\u001b[38;5;33mConcatenate\u001b[0m)       │                   │            │ dense_1[\u001b[38;5;34m0\u001b[0m][\u001b[38;5;34m0\u001b[0m],    │\n",
       "│                     │                   │            │ dropout[\u001b[38;5;34m0\u001b[0m][\u001b[38;5;34m0\u001b[0m],    │\n",
       "│                     │                   │            │ dropout_1[\u001b[38;5;34m0\u001b[0m][\u001b[38;5;34m0\u001b[0m]   │\n",
       "├─────────────────────┼───────────────────┼────────────┼───────────────────┤\n",
       "│ dense_2 (\u001b[38;5;33mDense\u001b[0m)     │ (\u001b[38;5;45mNone\u001b[0m, \u001b[38;5;34m5\u001b[0m)         │     \u001b[38;5;34m20,485\u001b[0m │ concatenate[\u001b[38;5;34m0\u001b[0m][\u001b[38;5;34m0\u001b[0m] │\n",
       "└─────────────────────┴───────────────────┴────────────┴───────────────────┘\n"
      ]
     },
     "metadata": {},
     "output_type": "display_data"
    },
    {
     "data": {
      "text/html": [
       "<pre style=\"white-space:pre;overflow-x:auto;line-height:normal;font-family:Menlo,'DejaVu Sans Mono',consolas,'Courier New',monospace\"><span style=\"font-weight: bold\"> Total params: </span><span style=\"color: #00af00; text-decoration-color: #00af00\">11,311,109</span> (43.15 MB)\n",
       "</pre>\n"
      ],
      "text/plain": [
       "\u001b[1m Total params: \u001b[0m\u001b[38;5;34m11,311,109\u001b[0m (43.15 MB)\n"
      ]
     },
     "metadata": {},
     "output_type": "display_data"
    },
    {
     "data": {
      "text/html": [
       "<pre style=\"white-space:pre;overflow-x:auto;line-height:normal;font-family:Menlo,'DejaVu Sans Mono',consolas,'Courier New',monospace\"><span style=\"font-weight: bold\"> Trainable params: </span><span style=\"color: #00af00; text-decoration-color: #00af00\">11,311,109</span> (43.15 MB)\n",
       "</pre>\n"
      ],
      "text/plain": [
       "\u001b[1m Trainable params: \u001b[0m\u001b[38;5;34m11,311,109\u001b[0m (43.15 MB)\n"
      ]
     },
     "metadata": {},
     "output_type": "display_data"
    },
    {
     "data": {
      "text/html": [
       "<pre style=\"white-space:pre;overflow-x:auto;line-height:normal;font-family:Menlo,'DejaVu Sans Mono',consolas,'Courier New',monospace\"><span style=\"font-weight: bold\"> Non-trainable params: </span><span style=\"color: #00af00; text-decoration-color: #00af00\">0</span> (0.00 B)\n",
       "</pre>\n"
      ],
      "text/plain": [
       "\u001b[1m Non-trainable params: \u001b[0m\u001b[38;5;34m0\u001b[0m (0.00 B)\n"
      ]
     },
     "metadata": {},
     "output_type": "display_data"
    }
   ],
   "source": [
    "# Printing the model summary\n",
    "\n",
    "model_DNN.summary()"
   ]
  },
  {
   "cell_type": "code",
   "execution_count": 39,
   "metadata": {},
   "outputs": [],
   "source": [
    "# using model checkpoint to save the best model\n",
    "\n",
    "checkpoint = tf.keras.callbacks.ModelCheckpoint(\n",
    "    filepath='model_checkpoint_DNN.keras',  # Path to save the model file with .keras extension\n",
    "    monitor='val_loss',                 # Metric to monitor\n",
    "    verbose=1,                          # Verbosity mode (0 or 1)\n",
    "    save_best_only=True,                # Only save the best model\n",
    "    mode='min',                         # Mode for the monitored metric\n",
    "    save_weights_only=False,            # Whether to save only the model weights\n",
    "    save_freq='epoch'                   # Save every epoch\n",
    ")"
   ]
  },
  {
   "cell_type": "code",
   "execution_count": 40,
   "metadata": {},
   "outputs": [],
   "source": [
    "# Compiling the model\n",
    "\n",
    "model_DNN.compile(\n",
    "    optimizer='adam',                       # Optimizer: 'adam' is an adaptive learning rate optimization algorithm\n",
    "    loss='sparse_categorical_crossentropy', # Loss function: suitable for multi-class classification with integer labels\n",
    "    metrics=['accuracy']                    # Metrics: the model's performance will be evaluated based on accuracy\n",
    ")"
   ]
  },
  {
   "cell_type": "code",
   "execution_count": 41,
   "metadata": {},
   "outputs": [
    {
     "name": "stdout",
     "output_type": "stream",
     "text": [
      "Epoch 1/10\n",
      "\u001b[1m17/17\u001b[0m \u001b[32m━━━━━━━━━━━━━━━━━━━━\u001b[0m\u001b[37m\u001b[0m \u001b[1m0s\u001b[0m 43ms/step - accuracy: 0.2451 - loss: 1.5857\n",
      "Epoch 1: val_loss improved from inf to 1.36704, saving model to model_checkpoint_DNN.keras\n",
      "\u001b[1m17/17\u001b[0m \u001b[32m━━━━━━━━━━━━━━━━━━━━\u001b[0m\u001b[37m\u001b[0m \u001b[1m1s\u001b[0m 58ms/step - accuracy: 0.2500 - loss: 1.5833 - val_accuracy: 0.5650 - val_loss: 1.3670\n",
      "Epoch 2/10\n",
      "\u001b[1m17/17\u001b[0m \u001b[32m━━━━━━━━━━━━━━━━━━━━\u001b[0m\u001b[37m\u001b[0m \u001b[1m0s\u001b[0m 43ms/step - accuracy: 0.7016 - loss: 1.0970\n",
      "Epoch 2: val_loss improved from 1.36704 to 0.90872, saving model to model_checkpoint_DNN.keras\n",
      "\u001b[1m17/17\u001b[0m \u001b[32m━━━━━━━━━━━━━━━━━━━━\u001b[0m\u001b[37m\u001b[0m \u001b[1m1s\u001b[0m 61ms/step - accuracy: 0.7032 - loss: 1.0879 - val_accuracy: 0.6384 - val_loss: 0.9087\n",
      "Epoch 3/10\n",
      "\u001b[1m17/17\u001b[0m \u001b[32m━━━━━━━━━━━━━━━━━━━━\u001b[0m\u001b[37m\u001b[0m \u001b[1m0s\u001b[0m 43ms/step - accuracy: 0.9064 - loss: 0.3783\n",
      "Epoch 3: val_loss did not improve from 0.90872\n",
      "\u001b[1m17/17\u001b[0m \u001b[32m━━━━━━━━━━━━━━━━━━━━\u001b[0m\u001b[37m\u001b[0m \u001b[1m1s\u001b[0m 48ms/step - accuracy: 0.9067 - loss: 0.3756 - val_accuracy: 0.6681 - val_loss: 0.9286\n",
      "Epoch 4/10\n",
      "\u001b[1m17/17\u001b[0m \u001b[32m━━━━━━━━━━━━━━━━━━━━\u001b[0m\u001b[37m\u001b[0m \u001b[1m0s\u001b[0m 44ms/step - accuracy: 0.9767 - loss: 0.1086\n",
      "Epoch 4: val_loss did not improve from 0.90872\n",
      "\u001b[1m17/17\u001b[0m \u001b[32m━━━━━━━━━━━━━━━━━━━━\u001b[0m\u001b[37m\u001b[0m \u001b[1m1s\u001b[0m 50ms/step - accuracy: 0.9770 - loss: 0.1076 - val_accuracy: 0.6822 - val_loss: 1.0498\n",
      "Epoch 5/10\n",
      "\u001b[1m16/17\u001b[0m \u001b[32m━━━━━━━━━━━━━━━━━━\u001b[0m\u001b[37m━━\u001b[0m \u001b[1m0s\u001b[0m 48ms/step - accuracy: 0.9940 - loss: 0.0318\n",
      "Epoch 5: val_loss did not improve from 0.90872\n",
      "\u001b[1m17/17\u001b[0m \u001b[32m━━━━━━━━━━━━━━━━━━━━\u001b[0m\u001b[37m\u001b[0m \u001b[1m1s\u001b[0m 53ms/step - accuracy: 0.9940 - loss: 0.0315 - val_accuracy: 0.6871 - val_loss: 1.1916\n",
      "Epoch 6/10\n",
      "\u001b[1m16/17\u001b[0m \u001b[32m━━━━━━━━━━━━━━━━━━\u001b[0m\u001b[37m━━\u001b[0m \u001b[1m0s\u001b[0m 53ms/step - accuracy: 0.9969 - loss: 0.0210\n",
      "Epoch 6: val_loss did not improve from 0.90872\n",
      "\u001b[1m17/17\u001b[0m \u001b[32m━━━━━━━━━━━━━━━━━━━━\u001b[0m\u001b[37m\u001b[0m \u001b[1m1s\u001b[0m 59ms/step - accuracy: 0.9971 - loss: 0.0202 - val_accuracy: 0.6864 - val_loss: 1.2740\n",
      "Epoch 7/10\n",
      "\u001b[1m16/17\u001b[0m \u001b[32m━━━━━━━━━━━━━━━━━━\u001b[0m\u001b[37m━━\u001b[0m \u001b[1m0s\u001b[0m 50ms/step - accuracy: 0.9980 - loss: 0.0094\n",
      "Epoch 7: val_loss did not improve from 0.90872\n",
      "\u001b[1m17/17\u001b[0m \u001b[32m━━━━━━━━━━━━━━━━━━━━\u001b[0m\u001b[37m\u001b[0m \u001b[1m1s\u001b[0m 55ms/step - accuracy: 0.9980 - loss: 0.0094 - val_accuracy: 0.6808 - val_loss: 1.3505\n",
      "Epoch 8/10\n",
      "\u001b[1m17/17\u001b[0m \u001b[32m━━━━━━━━━━━━━━━━━━━━\u001b[0m\u001b[37m\u001b[0m \u001b[1m0s\u001b[0m 43ms/step - accuracy: 0.9985 - loss: 0.0068\n",
      "Epoch 8: val_loss did not improve from 0.90872\n",
      "\u001b[1m17/17\u001b[0m \u001b[32m━━━━━━━━━━━━━━━━━━━━\u001b[0m\u001b[37m\u001b[0m \u001b[1m1s\u001b[0m 49ms/step - accuracy: 0.9985 - loss: 0.0070 - val_accuracy: 0.6794 - val_loss: 1.3717\n",
      "Epoch 9/10\n",
      "\u001b[1m17/17\u001b[0m \u001b[32m━━━━━━━━━━━━━━━━━━━━\u001b[0m\u001b[37m\u001b[0m \u001b[1m0s\u001b[0m 42ms/step - accuracy: 0.9983 - loss: 0.0067\n",
      "Epoch 9: val_loss did not improve from 0.90872\n",
      "\u001b[1m17/17\u001b[0m \u001b[32m━━━━━━━━━━━━━━━━━━━━\u001b[0m\u001b[37m\u001b[0m \u001b[1m1s\u001b[0m 48ms/step - accuracy: 0.9983 - loss: 0.0068 - val_accuracy: 0.6864 - val_loss: 1.3852\n",
      "Epoch 10/10\n",
      "\u001b[1m17/17\u001b[0m \u001b[32m━━━━━━━━━━━━━━━━━━━━\u001b[0m\u001b[37m\u001b[0m \u001b[1m0s\u001b[0m 43ms/step - accuracy: 0.9987 - loss: 0.0078\n",
      "Epoch 10: val_loss did not improve from 0.90872\n",
      "\u001b[1m17/17\u001b[0m \u001b[32m━━━━━━━━━━━━━━━━━━━━\u001b[0m\u001b[37m\u001b[0m \u001b[1m1s\u001b[0m 48ms/step - accuracy: 0.9987 - loss: 0.0078 - val_accuracy: 0.6801 - val_loss: 1.4187\n"
     ]
    }
   ],
   "source": [
    "# Train the model \n",
    "\n",
    "history = model_DNN.fit(\n",
    "    X_train,               # Training data features\n",
    "    y_train,               # Training data labels\n",
    "    epochs=10,             # Number of epochs (complete passes through the training data)\n",
    "    batch_size=256,        # Number of samples per gradient update (mini-batch size)\n",
    "    validation_data=(X_val, y_val),  # Validation data and labels for evaluating the model after each epoch\n",
    "    verbose=1,             # Verbosity mode (1 = progress bar, 0 = silent, 2 = one line per epoch)\n",
    "    callbacks=[checkpoint] # List of callback functions to apply during training (e.g., saving model checkpoints)\n",
    ")"
   ]
  },
  {
   "cell_type": "code",
   "execution_count": 42,
   "metadata": {},
   "outputs": [
    {
     "data": {
      "image/png": "[encoded data removed]",
      "text/plain": [
       "<Figure size 640x480 with 1 Axes>"
      ]
     },
     "metadata": {},
     "output_type": "display_data"
    }
   ],
   "source": [
    "# Plotting the model stats\n",
    "\n",
    "plt.plot(history.history['accuracy'])\n",
    "plt.plot(history.history['val_accuracy'])\n",
    "plt.title('DNN model accuracy')\n",
    "plt.ylabel('accuracy')\n",
    "plt.xlabel('epoch')\n",
    "plt.legend(['training', 'validation'], loc='best')\n",
    "plt.show()"
   ]
  },
  {
   "cell_type": "code",
   "execution_count": 43,
   "metadata": {},
   "outputs": [],
   "source": [
    "# Loading the best model checkpoint\n",
    "\n",
    "model_DNN.load_weights('model_checkpoint_DNN.keras')"
   ]
  },
  {
   "cell_type": "code",
   "execution_count": 44,
   "metadata": {},
   "outputs": [],
   "source": [
    "# Function to predict the genre of given songs\n",
    "def predict_genre(model, songs):\n",
    "    # Cleaning the songs' lyrics\n",
    "    songs = functions.clean_data(songs)\n",
    "    \n",
    "    # Splitting the cleaned lyrics into individual words\n",
    "    songs = functions.split_data(songs)\n",
    "    \n",
    "    # Stemming the words to reduce them to their root forms\n",
    "    songs = functions.stem(songs)\n",
    "    \n",
    "    # Removing common stopwords from the lyrics\n",
    "    songs = functions.remove_stopwords(songs)\n",
    "    \n",
    "    # Converting the processed lyrics into TF-IDF vectors using the document frequencies\n",
    "    songs = create_tf_idf(songs, docFrequencies)\n",
    "    \n",
    "    # Converting the TF-IDF vectors into a NumPy array\n",
    "    songs = np.array(songs)\n",
    "    \n",
    "    # Using the trained model to predict the genre of the songs and returning it\n",
    "    return model.predict(songs)"
   ]
  },
  {
   "cell_type": "code",
   "execution_count": 45,
   "metadata": {},
   "outputs": [],
   "source": [
    "# Storing the song lyrics in a variable\n",
    "\n",
    "song_lyrics = ['Man, whatever\\nDre, just let it run\\nAyo, turn the beat up a little bit\\nAyo, this song is for anyone...\\nFuck it, just shut up and listen, ayo\\nI sit back with this pack of Zig-Zags and this bag\\nOf this weed, it gives me the shit needed to be\\nThe most meanest MC on this on this Earth\\nAnd since birth I\\'ve been cursed with this curse to just curse\\nAnd just blurt this berserk and bizarre shit that works\\nAnd it sells and it helps in itself to relieve all this tension\\nDispensing these sentences, getting this stress\\nThat\\'s been eating me recently off of this chest\\nAnd I rest again peacefully\\nBut at least have the decency in you\\nTo leave me alone, when you freaks see me out\\nIn the streets when I\\'m eating or feeding my daughter\\nTo not come and speak to me\\nI don\\'t know you, and no, I don\\'t owe you a mothafuckin\\' thing\\nI\\'m not Mr. N\\'Sync, I\\'m not what your friends think\\nI\\'m not Mr. Friendly, I can be a prick if you tempt me\\nMy tank is on empty, no patience is in me\\nAnd if you offend me, I\\'m lifting you ten feet in the air\\nI don\\'t care who was there and who saw me just jaw you\\nGo call you a lawyer, file you a lawsuit\\nI\\'ll smile in the courtroom and buy you a wardrobe\\nI\\'m tired of all you, I don\\'t mean to be mean\\nBut that\\'s all I can be, it\\'s just me\\nAnd I am whatever you say I am\\nIf I wasn\\'t, then why would I say I am?\\nIn the paper, the news, every day I am\\nRadio won\\'t even play my jam\\n\\'Cause I am whatever you say I am\\nIf I wasn\\'t, then why would I say I am?\\nIn the paper, the news, every day I am, huh\\nI don\\'t know, it\\'s just the way I am\\nSometimes I just feel like my father\\nI hate to be bothered with all of this nonsense, it\\'s constant\\nAnd, oh, it\\'s his lyrical content, the song Guilty Conscience\\nHas gotten such rotten responses\\nAnd all of this controversy circles me\\nAnd it seems like the media immediately points a finger at me\\nSo I point one back at \\'em, but not the index or pinkie\\nOr the ring or the thumb, it\\'s the one you put up\\nWhen you don\\'t give a fuck, when you won\\'t just put up\\nWith the bullshit they pull, \\'cause they full of shit too\\nWhen a dude\\'s getting bullied and shoots up his school\\nAnd they blame it on Marilyn and the heroin\\nWhere were the parents at? And look where it\\'s at!\\nMiddle America, now it\\'s a tragedy\\nNow it\\'s so sad to see, an upper-class city\\nHavin\\' this happenin\\'\\nThen attack Eminem \\'cause I rap this way\\nBut I\\'m glad, \\'cause they feed me the fuel that I need\\nFor the fire to burn and it\\'s burning, and I have returned\\nAnd I am whatever you say I am\\nIf I wasn\\'t, then why would I say I am?\\nIn the paper, the news, every day I am\\nRadio won\\'t even play my jam\\n\\'Cause I am whatever you say I am\\nIf I wasn\\'t, then why would I say I am?\\nIn the paper, the news, every day I am\\nI don\\'t know, it\\'s just the way I am\\nI\\'m so sick and tired of being admired\\nThat I wish that I would just die or get fired\\nAnd dropped from my label, let\\'s stop with the fables\\nI\\'m not gonna be able to top on \"My Name Is\"\\nAnd pigeon-holed into some poppy sensation\\nTo cop me rotation at rock-n-roll stations\\nAnd I just do not got the patience\\nTo deal with these cocky Caucasians\\nWho think I\\'m some wigger who just tries to be black\\n\\'Cause I talk with an accent, and grab on my balls\\nSo they always keep asking the same fucking questions\\nWhat school did I go to, what hood I grew up in\\nThe why, the who, what, when, the where and the how\\n\\'Til I\\'m grabbing my hair and I\\'m tearin\\' it out\\n\\'Cause they driving me crazy, I can\\'t take it\\nI\\'m racin\\', I\\'m pacin\\', I stand and I sit\\nAnd I\\'m thankful for every fan that I get\\nBut I can\\'t take a shit in the bathroom\\nWithout someone standing by it\\nNo, I won\\'t sign you an autograph\\nYou can call me an asshole, I\\'m glad, \\'cause...\\nI am whatever you say I am\\nIf I wasn\\'t, then why would I say I am?\\nIn the paper, the news, every day I am\\nRadio won\\'t even play my jam\\n\\'Cause I am whatever you say I am\\nIf I wasn\\'t, then why would I say I am?\\nIn the paper, the news, every day I am\\nI don\\'t know, it\\'s just the way I am']"
   ]
  },
  {
   "cell_type": "code",
   "execution_count": 46,
   "metadata": {},
   "outputs": [
    {
     "name": "stdout",
     "output_type": "stream",
     "text": [
      "\u001b[1m1/1\u001b[0m \u001b[32m━━━━━━━━━━━━━━━━━━━━\u001b[0m\u001b[37m\u001b[0m \u001b[1m0s\u001b[0m 21ms/step\n"
     ]
    },
    {
     "data": {
      "text/plain": [
       "array([[0.21872856, 0.29040053, 0.01328556, 0.05887502, 0.41871035]],\n",
       "      dtype=float32)"
      ]
     },
     "execution_count": 46,
     "metadata": {},
     "output_type": "execute_result"
    }
   ],
   "source": [
    "# passing the song along with the model to check the model prediction\n",
    "\n",
    "predict_genre(model_DNN, song_lyrics)"
   ]
  },
  {
   "cell_type": "code",
   "execution_count": 47,
   "metadata": {},
   "outputs": [
    {
     "name": "stdout",
     "output_type": "stream",
     "text": [
      "\u001b[1m59/59\u001b[0m \u001b[32m━━━━━━━━━━━━━━━━━━━━\u001b[0m\u001b[37m\u001b[0m \u001b[1m0s\u001b[0m 4ms/step\n"
     ]
    }
   ],
   "source": [
    "# Make predictions on the test set using the trained model\n",
    "y_pred = model_DNN.predict(X_test)\n",
    "\n",
    "# Convert the predicted probabilities into class labels\n",
    "y_pred_classes = np.argmax(y_pred, axis=1)"
   ]
  },
  {
   "cell_type": "code",
   "execution_count": 48,
   "metadata": {},
   "outputs": [
    {
     "name": "stdout",
     "output_type": "stream",
     "text": [
      "\u001b[1m59/59\u001b[0m \u001b[32m━━━━━━━━━━━━━━━━━━━━\u001b[0m\u001b[37m\u001b[0m \u001b[1m0s\u001b[0m 4ms/step - accuracy: 0.6429 - loss: 0.9165\n"
     ]
    }
   ],
   "source": [
    "# Calculate and storing the DNN model accuracy and loss\n",
    "\n",
    "dnn_loss, dnn_accuracy = model_DNN.evaluate(X_test, y_test)"
   ]
  },
  {
   "cell_type": "code",
   "execution_count": 49,
   "metadata": {},
   "outputs": [],
   "source": [
    "# Generate the confusion matrix\n",
    "\n",
    "conf_matrix = confusion_matrix(y_test, y_pred_classes)"
   ]
  },
  {
   "cell_type": "code",
   "execution_count": 50,
   "metadata": {},
   "outputs": [],
   "source": [
    "# Calculate differnt metrics to check the model performance\n",
    "\n",
    "\n",
    "precision = precision_score(y_test, y_pred_classes, average='weighted')\n",
    "recall = recall_score(y_test, y_pred_classes, average='weighted')\n",
    "f1 = f1_score(y_test, y_pred_classes, average='weighted')\n",
    "mcc = matthews_corrcoef(y_test, y_pred_classes)\n",
    "kappa = cohen_kappa_score(y_test, y_pred_classes)# For regression predictions\n",
    "rmse = np.sqrt(mean_squared_error(y_test, y_pred_classes))\n",
    "rss = np.sum(np.square(y_test - y_pred_classes))\n",
    "mape = mean_absolute_percentage_error(y_test, y_pred_classes)\n",
    "\n",
    "# Calculate Sensitivity and Specificity\n",
    "tp = conf_matrix[1, 1]  # True Positives\n",
    "tn = conf_matrix[0, 0]  # True Negatives\n",
    "fp = conf_matrix[0, 1]  # False Positives\n",
    "fn = conf_matrix[1, 0]  # False Negatives\n",
    "\n",
    "sensitivity = tp / (tp + fn)\n",
    "specificity = tn / (tn + fp)"
   ]
  },
  {
   "cell_type": "code",
   "execution_count": 51,
   "metadata": {},
   "outputs": [],
   "source": [
    "# Storing the DNN model stats in a dictionary\n",
    "\n",
    "dnn_stats = {\n",
    "    'Accuracy': dnn_accuracy * 100,\n",
    "    'Loss': dnn_loss * 100,\n",
    "    'Precision': precision,\n",
    "    'Recall': recall,\n",
    "    'F1-Score': f1,\n",
    "    'Matthews Correlation Coefficient': mcc,\n",
    "    'Cohen\\'s Kappa': kappa,\n",
    "    'RMSE': rmse,\n",
    "    'RSS': rss,\n",
    "    'MAPE': mape,\n",
    "    'Sensitivity': sensitivity,\n",
    "    'Specificity': specificity\n",
    "}"
   ]
  },
  {
   "cell_type": "code",
   "execution_count": 52,
   "metadata": {},
   "outputs": [
    {
     "name": "stdout",
     "output_type": "stream",
     "text": [
      "Deep Neural Network Model \n",
      "---------------------------\n",
      "Accuracy: 64.46%\n",
      "Loss: 90.07%\n",
      "Precision: 0.66\n",
      "Recall: 0.64\n",
      "F1-Score: 0.64\n",
      "Matthews Correlation Coefficient: 0.56\n",
      "Cohen's Kappa: 0.56\n",
      "RMSE: 1.20\n",
      "RSS: 2726.00\n",
      "MAPE: 646438293971083.12\n",
      "Sensitivity (Recall): 0.49\n",
      "Specificity: 0.74\n"
     ]
    }
   ],
   "source": [
    "# Print additional metrics\n",
    "print(\"Deep Neural Network Model \\n---------------------------\")\n",
    "print(f\"Accuracy: {dnn_accuracy * 100:.2f}%\")\n",
    "print(f\"Loss: {dnn_loss * 100:.2f}%\")\n",
    "print(f\"Precision: {precision:.2f}\")\n",
    "print(f\"Recall: {recall:.2f}\")\n",
    "print(f\"F1-Score: {f1:.2f}\")\n",
    "print(f\"Matthews Correlation Coefficient: {mcc:.2f}\")\n",
    "print(f\"Cohen's Kappa: {kappa:.2f}\")\n",
    "print(f\"RMSE: {rmse:.2f}\")\n",
    "print(f\"RSS: {rss:.2f}\")\n",
    "print(f\"MAPE: {mape:.2f}\")\n",
    "print(f\"Sensitivity (Recall): {sensitivity:.2f}\")\n",
    "print(f\"Specificity: {specificity:.2f}\")"
   ]
  },
  {
   "cell_type": "code",
   "execution_count": 53,
   "metadata": {},
   "outputs": [
    {
     "data": {
      "image/png": "[encoded data removed]",
      "text/plain": [
       "<Figure size 800x600 with 2 Axes>"
      ]
     },
     "metadata": {},
     "output_type": "display_data"
    }
   ],
   "source": [
    "# Plot the confusion matrix\n",
    "plt.figure(figsize=(8, 6))\n",
    "sns.heatmap(conf_matrix, annot=True, fmt='d', cmap='magma', xticklabels=class_names, yticklabels=class_names)\n",
    "plt.title('Confusion Matrix for DNN Model')\n",
    "plt.xlabel('Predicted Label')\n",
    "plt.ylabel('True Label')\n",
    "plt.show()"
   ]
  },
  {
   "cell_type": "code",
   "execution_count": 54,
   "metadata": {},
   "outputs": [
    {
     "name": "stdout",
     "output_type": "stream",
     "text": [
      "\n",
      "Classification Report:\n",
      "              precision    recall  f1-score   support\n",
      "\n",
      "           0       0.43      0.61      0.50       378\n",
      "           1       0.51      0.38      0.44       377\n",
      "           2       0.71      0.80      0.75       378\n",
      "           3       0.79      0.56      0.66       377\n",
      "           4       0.87      0.87      0.87       378\n",
      "\n",
      "    accuracy                           0.64      1888\n",
      "   macro avg       0.66      0.64      0.64      1888\n",
      "weighted avg       0.66      0.64      0.64      1888\n",
      "\n"
     ]
    }
   ],
   "source": [
    "# Classification Report\n",
    "class_report = classification_report(y_test, y_pred_classes)\n",
    "print(\"\\nClassification Report:\")\n",
    "print(class_report)"
   ]
  },
  {
   "cell_type": "markdown",
   "metadata": {},
   "source": [
    "## Implementing XGBoost Model"
   ]
  },
  {
   "cell_type": "code",
   "execution_count": 55,
   "metadata": {},
   "outputs": [
    {
     "name": "stderr",
     "output_type": "stream",
     "text": [
      "/opt/anaconda3/envs/Machine_Learning/lib/python3.11/site-packages/xgboost/core.py:158: UserWarning: [08:31:27] WARNING: /Users/runner/work/xgboost/xgboost/src/learner.cc:740: \n",
      "Parameters: { \"use_label_encoder\" } are not used.\n",
      "\n",
      "  warnings.warn(smsg, UserWarning)\n"
     ]
    },
    {
     "data": {
      "text/html": [
       "<style>#sk-container-id-1 {\n",
       "  /* Definition of color scheme common for light and dark mode */\n",
       "  --sklearn-color-text: black;\n",
       "  --sklearn-color-line: gray;\n",
       "  /* Definition of color scheme for unfitted estimators */\n",
       "  --sklearn-color-unfitted-level-0: #fff5e6;\n",
       "  --sklearn-color-unfitted-level-1: #f6e4d2;\n",
       "  --sklearn-color-unfitted-level-2: #ffe0b3;\n",
       "  --sklearn-color-unfitted-level-3: chocolate;\n",
       "  /* Definition of color scheme for fitted estimators */\n",
       "  --sklearn-color-fitted-level-0: #f0f8ff;\n",
       "  --sklearn-color-fitted-level-1: #d4ebff;\n",
       "  --sklearn-color-fitted-level-2: #b3dbfd;\n",
       "  --sklearn-color-fitted-level-3: cornflowerblue;\n",
       "\n",
       "  /* Specific color for light theme */\n",
       "  --sklearn-color-text-on-default-background: var(--sg-text-color, var(--theme-code-foreground, var(--jp-content-font-color1, black)));\n",
       "  --sklearn-color-background: var(--sg-background-color, var(--theme-background, var(--jp-layout-color0, white)));\n",
       "  --sklearn-color-border-box: var(--sg-text-color, var(--theme-code-foreground, var(--jp-content-font-color1, black)));\n",
       "  --sklearn-color-icon: #696969;\n",
       "\n",
       "  @media (prefers-color-scheme: dark) {\n",
       "    /* Redefinition of color scheme for dark theme */\n",
       "    --sklearn-color-text-on-default-background: var(--sg-text-color, var(--theme-code-foreground, var(--jp-content-font-color1, white)));\n",
       "    --sklearn-color-background: var(--sg-background-color, var(--theme-background, var(--jp-layout-color0, #111)));\n",
       "    --sklearn-color-border-box: var(--sg-text-color, var(--theme-code-foreground, var(--jp-content-font-color1, white)));\n",
       "    --sklearn-color-icon: #878787;\n",
       "  }\n",
       "}\n",
       "\n",
       "#sk-container-id-1 {\n",
       "  color: var(--sklearn-color-text);\n",
       "}\n",
       "\n",
       "#sk-container-id-1 pre {\n",
       "  padding: 0;\n",
       "}\n",
       "\n",
       "#sk-container-id-1 input.sk-hidden--visually {\n",
       "  border: 0;\n",
       "  clip: rect(1px 1px 1px 1px);\n",
       "  clip: rect(1px, 1px, 1px, 1px);\n",
       "  height: 1px;\n",
       "  margin: -1px;\n",
       "  overflow: hidden;\n",
       "  padding: 0;\n",
       "  position: absolute;\n",
       "  width: 1px;\n",
       "}\n",
       "\n",
       "#sk-container-id-1 div.sk-dashed-wrapped {\n",
       "  border: 1px dashed var(--sklearn-color-line);\n",
       "  margin: 0 0.4em 0.5em 0.4em;\n",
       "  box-sizing: border-box;\n",
       "  padding-bottom: 0.4em;\n",
       "  background-color: var(--sklearn-color-background);\n",
       "}\n",
       "\n",
       "#sk-container-id-1 div.sk-container {\n",
       "  /* jupyter's `normalize.less` sets `[hidden] { display: none; }`\n",
       "     but bootstrap.min.css set `[hidden] { display: none !important; }`\n",
       "     so we also need the `!important` here to be able to override the\n",
       "     default hidden behavior on the sphinx rendered scikit-learn.org.\n",
       "     See: https://github.com/scikit-learn/scikit-learn/issues/21755 */\n",
       "  display: inline-block !important;\n",
       "  position: relative;\n",
       "}\n",
       "\n",
       "#sk-container-id-1 div.sk-text-repr-fallback {\n",
       "  display: none;\n",
       "}\n",
       "\n",
       "div.sk-parallel-item,\n",
       "div.sk-serial,\n",
       "div.sk-item {\n",
       "  /* draw centered vertical line to link estimators */\n",
       "  background-image: linear-gradient(var(--sklearn-color-text-on-default-background), var(--sklearn-color-text-on-default-background));\n",
       "  background-size: 2px 100%;\n",
       "  background-repeat: no-repeat;\n",
       "  background-position: center center;\n",
       "}\n",
       "\n",
       "/* Parallel-specific style estimator block */\n",
       "\n",
       "#sk-container-id-1 div.sk-parallel-item::after {\n",
       "  content: \"\";\n",
       "  width: 100%;\n",
       "  border-bottom: 2px solid var(--sklearn-color-text-on-default-background);\n",
       "  flex-grow: 1;\n",
       "}\n",
       "\n",
       "#sk-container-id-1 div.sk-parallel {\n",
       "  display: flex;\n",
       "  align-items: stretch;\n",
       "  justify-content: center;\n",
       "  background-color: var(--sklearn-color-background);\n",
       "  position: relative;\n",
       "}\n",
       "\n",
       "#sk-container-id-1 div.sk-parallel-item {\n",
       "  display: flex;\n",
       "  flex-direction: column;\n",
       "}\n",
       "\n",
       "#sk-container-id-1 div.sk-parallel-item:first-child::after {\n",
       "  align-self: flex-end;\n",
       "  width: 50%;\n",
       "}\n",
       "\n",
       "#sk-container-id-1 div.sk-parallel-item:last-child::after {\n",
       "  align-self: flex-start;\n",
       "  width: 50%;\n",
       "}\n",
       "\n",
       "#sk-container-id-1 div.sk-parallel-item:only-child::after {\n",
       "  width: 0;\n",
       "}\n",
       "\n",
       "/* Serial-specific style estimator block */\n",
       "\n",
       "#sk-container-id-1 div.sk-serial {\n",
       "  display: flex;\n",
       "  flex-direction: column;\n",
       "  align-items: center;\n",
       "  background-color: var(--sklearn-color-background);\n",
       "  padding-right: 1em;\n",
       "  padding-left: 1em;\n",
       "}\n",
       "\n",
       "\n",
       "/* Toggleable style: style used for estimator/Pipeline/ColumnTransformer box that is\n",
       "clickable and can be expanded/collapsed.\n",
       "- Pipeline and ColumnTransformer use this feature and define the default style\n",
       "- Estimators will overwrite some part of the style using the `sk-estimator` class\n",
       "*/\n",
       "\n",
       "/* Pipeline and ColumnTransformer style (default) */\n",
       "\n",
       "#sk-container-id-1 div.sk-toggleable {\n",
       "  /* Default theme specific background. It is overwritten whether we have a\n",
       "  specific estimator or a Pipeline/ColumnTransformer */\n",
       "  background-color: var(--sklearn-color-background);\n",
       "}\n",
       "\n",
       "/* Toggleable label */\n",
       "#sk-container-id-1 label.sk-toggleable__label {\n",
       "  cursor: pointer;\n",
       "  display: block;\n",
       "  width: 100%;\n",
       "  margin-bottom: 0;\n",
       "  padding: 0.5em;\n",
       "  box-sizing: border-box;\n",
       "  text-align: center;\n",
       "}\n",
       "\n",
       "#sk-container-id-1 label.sk-toggleable__label-arrow:before {\n",
       "  /* Arrow on the left of the label */\n",
       "  content: \"▸\";\n",
       "  float: left;\n",
       "  margin-right: 0.25em;\n",
       "  color: var(--sklearn-color-icon);\n",
       "}\n",
       "\n",
       "#sk-container-id-1 label.sk-toggleable__label-arrow:hover:before {\n",
       "  color: var(--sklearn-color-text);\n",
       "}\n",
       "\n",
       "/* Toggleable content - dropdown */\n",
       "\n",
       "#sk-container-id-1 div.sk-toggleable__content {\n",
       "  max-height: 0;\n",
       "  max-width: 0;\n",
       "  overflow: hidden;\n",
       "  text-align: left;\n",
       "  /* unfitted */\n",
       "  background-color: var(--sklearn-color-unfitted-level-0);\n",
       "}\n",
       "\n",
       "#sk-container-id-1 div.sk-toggleable__content.fitted {\n",
       "  /* fitted */\n",
       "  background-color: var(--sklearn-color-fitted-level-0);\n",
       "}\n",
       "\n",
       "#sk-container-id-1 div.sk-toggleable__content pre {\n",
       "  margin: 0.2em;\n",
       "  border-radius: 0.25em;\n",
       "  color: var(--sklearn-color-text);\n",
       "  /* unfitted */\n",
       "  background-color: var(--sklearn-color-unfitted-level-0);\n",
       "}\n",
       "\n",
       "#sk-container-id-1 div.sk-toggleable__content.fitted pre {\n",
       "  /* unfitted */\n",
       "  background-color: var(--sklearn-color-fitted-level-0);\n",
       "}\n",
       "\n",
       "#sk-container-id-1 input.sk-toggleable__control:checked~div.sk-toggleable__content {\n",
       "  /* Expand drop-down */\n",
       "  max-height: 200px;\n",
       "  max-width: 100%;\n",
       "  overflow: auto;\n",
       "}\n",
       "\n",
       "#sk-container-id-1 input.sk-toggleable__control:checked~label.sk-toggleable__label-arrow:before {\n",
       "  content: \"▾\";\n",
       "}\n",
       "\n",
       "/* Pipeline/ColumnTransformer-specific style */\n",
       "\n",
       "#sk-container-id-1 div.sk-label input.sk-toggleable__control:checked~label.sk-toggleable__label {\n",
       "  color: var(--sklearn-color-text);\n",
       "  background-color: var(--sklearn-color-unfitted-level-2);\n",
       "}\n",
       "\n",
       "#sk-container-id-1 div.sk-label.fitted input.sk-toggleable__control:checked~label.sk-toggleable__label {\n",
       "  background-color: var(--sklearn-color-fitted-level-2);\n",
       "}\n",
       "\n",
       "/* Estimator-specific style */\n",
       "\n",
       "/* Colorize estimator box */\n",
       "#sk-container-id-1 div.sk-estimator input.sk-toggleable__control:checked~label.sk-toggleable__label {\n",
       "  /* unfitted */\n",
       "  background-color: var(--sklearn-color-unfitted-level-2);\n",
       "}\n",
       "\n",
       "#sk-container-id-1 div.sk-estimator.fitted input.sk-toggleable__control:checked~label.sk-toggleable__label {\n",
       "  /* fitted */\n",
       "  background-color: var(--sklearn-color-fitted-level-2);\n",
       "}\n",
       "\n",
       "#sk-container-id-1 div.sk-label label.sk-toggleable__label,\n",
       "#sk-container-id-1 div.sk-label label {\n",
       "  /* The background is the default theme color */\n",
       "  color: var(--sklearn-color-text-on-default-background);\n",
       "}\n",
       "\n",
       "/* On hover, darken the color of the background */\n",
       "#sk-container-id-1 div.sk-label:hover label.sk-toggleable__label {\n",
       "  color: var(--sklearn-color-text);\n",
       "  background-color: var(--sklearn-color-unfitted-level-2);\n",
       "}\n",
       "\n",
       "/* Label box, darken color on hover, fitted */\n",
       "#sk-container-id-1 div.sk-label.fitted:hover label.sk-toggleable__label.fitted {\n",
       "  color: var(--sklearn-color-text);\n",
       "  background-color: var(--sklearn-color-fitted-level-2);\n",
       "}\n",
       "\n",
       "/* Estimator label */\n",
       "\n",
       "#sk-container-id-1 div.sk-label label {\n",
       "  font-family: monospace;\n",
       "  font-weight: bold;\n",
       "  display: inline-block;\n",
       "  line-height: 1.2em;\n",
       "}\n",
       "\n",
       "#sk-container-id-1 div.sk-label-container {\n",
       "  text-align: center;\n",
       "}\n",
       "\n",
       "/* Estimator-specific */\n",
       "#sk-container-id-1 div.sk-estimator {\n",
       "  font-family: monospace;\n",
       "  border: 1px dotted var(--sklearn-color-border-box);\n",
       "  border-radius: 0.25em;\n",
       "  box-sizing: border-box;\n",
       "  margin-bottom: 0.5em;\n",
       "  /* unfitted */\n",
       "  background-color: var(--sklearn-color-unfitted-level-0);\n",
       "}\n",
       "\n",
       "#sk-container-id-1 div.sk-estimator.fitted {\n",
       "  /* fitted */\n",
       "  background-color: var(--sklearn-color-fitted-level-0);\n",
       "}\n",
       "\n",
       "/* on hover */\n",
       "#sk-container-id-1 div.sk-estimator:hover {\n",
       "  /* unfitted */\n",
       "  background-color: var(--sklearn-color-unfitted-level-2);\n",
       "}\n",
       "\n",
       "#sk-container-id-1 div.sk-estimator.fitted:hover {\n",
       "  /* fitted */\n",
       "  background-color: var(--sklearn-color-fitted-level-2);\n",
       "}\n",
       "\n",
       "/* Specification for estimator info (e.g. \"i\" and \"?\") */\n",
       "\n",
       "/* Common style for \"i\" and \"?\" */\n",
       "\n",
       ".sk-estimator-doc-link,\n",
       "a:link.sk-estimator-doc-link,\n",
       "a:visited.sk-estimator-doc-link {\n",
       "  float: right;\n",
       "  font-size: smaller;\n",
       "  line-height: 1em;\n",
       "  font-family: monospace;\n",
       "  background-color: var(--sklearn-color-background);\n",
       "  border-radius: 1em;\n",
       "  height: 1em;\n",
       "  width: 1em;\n",
       "  text-decoration: none !important;\n",
       "  margin-left: 1ex;\n",
       "  /* unfitted */\n",
       "  border: var(--sklearn-color-unfitted-level-1) 1pt solid;\n",
       "  color: var(--sklearn-color-unfitted-level-1);\n",
       "}\n",
       "\n",
       ".sk-estimator-doc-link.fitted,\n",
       "a:link.sk-estimator-doc-link.fitted,\n",
       "a:visited.sk-estimator-doc-link.fitted {\n",
       "  /* fitted */\n",
       "  border: var(--sklearn-color-fitted-level-1) 1pt solid;\n",
       "  color: var(--sklearn-color-fitted-level-1);\n",
       "}\n",
       "\n",
       "/* On hover */\n",
       "div.sk-estimator:hover .sk-estimator-doc-link:hover,\n",
       ".sk-estimator-doc-link:hover,\n",
       "div.sk-label-container:hover .sk-estimator-doc-link:hover,\n",
       ".sk-estimator-doc-link:hover {\n",
       "  /* unfitted */\n",
       "  background-color: var(--sklearn-color-unfitted-level-3);\n",
       "  color: var(--sklearn-color-background);\n",
       "  text-decoration: none;\n",
       "}\n",
       "\n",
       "div.sk-estimator.fitted:hover .sk-estimator-doc-link.fitted:hover,\n",
       ".sk-estimator-doc-link.fitted:hover,\n",
       "div.sk-label-container:hover .sk-estimator-doc-link.fitted:hover,\n",
       ".sk-estimator-doc-link.fitted:hover {\n",
       "  /* fitted */\n",
       "  background-color: var(--sklearn-color-fitted-level-3);\n",
       "  color: var(--sklearn-color-background);\n",
       "  text-decoration: none;\n",
       "}\n",
       "\n",
       "/* Span, style for the box shown on hovering the info icon */\n",
       ".sk-estimator-doc-link span {\n",
       "  display: none;\n",
       "  z-index: 9999;\n",
       "  position: relative;\n",
       "  font-weight: normal;\n",
       "  right: .2ex;\n",
       "  padding: .5ex;\n",
       "  margin: .5ex;\n",
       "  width: min-content;\n",
       "  min-width: 20ex;\n",
       "  max-width: 50ex;\n",
       "  color: var(--sklearn-color-text);\n",
       "  box-shadow: 2pt 2pt 4pt #999;\n",
       "  /* unfitted */\n",
       "  background: var(--sklearn-color-unfitted-level-0);\n",
       "  border: .5pt solid var(--sklearn-color-unfitted-level-3);\n",
       "}\n",
       "\n",
       ".sk-estimator-doc-link.fitted span {\n",
       "  /* fitted */\n",
       "  background: var(--sklearn-color-fitted-level-0);\n",
       "  border: var(--sklearn-color-fitted-level-3);\n",
       "}\n",
       "\n",
       ".sk-estimator-doc-link:hover span {\n",
       "  display: block;\n",
       "}\n",
       "\n",
       "/* \"?\"-specific style due to the `<a>` HTML tag */\n",
       "\n",
       "#sk-container-id-1 a.estimator_doc_link {\n",
       "  float: right;\n",
       "  font-size: 1rem;\n",
       "  line-height: 1em;\n",
       "  font-family: monospace;\n",
       "  background-color: var(--sklearn-color-background);\n",
       "  border-radius: 1rem;\n",
       "  height: 1rem;\n",
       "  width: 1rem;\n",
       "  text-decoration: none;\n",
       "  /* unfitted */\n",
       "  color: var(--sklearn-color-unfitted-level-1);\n",
       "  border: var(--sklearn-color-unfitted-level-1) 1pt solid;\n",
       "}\n",
       "\n",
       "#sk-container-id-1 a.estimator_doc_link.fitted {\n",
       "  /* fitted */\n",
       "  border: var(--sklearn-color-fitted-level-1) 1pt solid;\n",
       "  color: var(--sklearn-color-fitted-level-1);\n",
       "}\n",
       "\n",
       "/* On hover */\n",
       "#sk-container-id-1 a.estimator_doc_link:hover {\n",
       "  /* unfitted */\n",
       "  background-color: var(--sklearn-color-unfitted-level-3);\n",
       "  color: var(--sklearn-color-background);\n",
       "  text-decoration: none;\n",
       "}\n",
       "\n",
       "#sk-container-id-1 a.estimator_doc_link.fitted:hover {\n",
       "  /* fitted */\n",
       "  background-color: var(--sklearn-color-fitted-level-3);\n",
       "}\n",
       "</style><div id=\"sk-container-id-1\" class=\"sk-top-container\"><div class=\"sk-text-repr-fallback\"><pre>XGBClassifier(base_score=None, booster=None, callbacks=None,\n",
       "              colsample_bylevel=None, colsample_bynode=None,\n",
       "              colsample_bytree=None, device=None, early_stopping_rounds=None,\n",
       "              enable_categorical=False, eval_metric=&#x27;mlogloss&#x27;,\n",
       "              feature_types=None, gamma=None, grow_policy=None,\n",
       "              importance_type=None, interaction_constraints=None,\n",
       "              learning_rate=None, max_bin=None, max_cat_threshold=None,\n",
       "              max_cat_to_onehot=None, max_delta_step=None, max_depth=None,\n",
       "              max_leaves=None, min_child_weight=None, missing=nan,\n",
       "              monotone_constraints=None, multi_strategy=None, n_estimators=None,\n",
       "              n_jobs=None, num_parallel_tree=None, objective=&#x27;multi:softprob&#x27;, ...)</pre><b>In a Jupyter environment, please rerun this cell to show the HTML representation or trust the notebook. <br />On GitHub, the HTML representation is unable to render, please try loading this page with nbviewer.org.</b></div><div class=\"sk-container\" hidden><div class=\"sk-item\"><div class=\"sk-estimator fitted sk-toggleable\"><input class=\"sk-toggleable__control sk-hidden--visually\" id=\"sk-estimator-id-1\" type=\"checkbox\" checked><label for=\"sk-estimator-id-1\" class=\"sk-toggleable__label fitted sk-toggleable__label-arrow fitted\">&nbsp;XGBClassifier<span class=\"sk-estimator-doc-link fitted\">i<span>Fitted</span></span></label><div class=\"sk-toggleable__content fitted\"><pre>XGBClassifier(base_score=None, booster=None, callbacks=None,\n",
       "              colsample_bylevel=None, colsample_bynode=None,\n",
       "              colsample_bytree=None, device=None, early_stopping_rounds=None,\n",
       "              enable_categorical=False, eval_metric=&#x27;mlogloss&#x27;,\n",
       "              feature_types=None, gamma=None, grow_policy=None,\n",
       "              importance_type=None, interaction_constraints=None,\n",
       "              learning_rate=None, max_bin=None, max_cat_threshold=None,\n",
       "              max_cat_to_onehot=None, max_delta_step=None, max_depth=None,\n",
       "              max_leaves=None, min_child_weight=None, missing=nan,\n",
       "              monotone_constraints=None, multi_strategy=None, n_estimators=None,\n",
       "              n_jobs=None, num_parallel_tree=None, objective=&#x27;multi:softprob&#x27;, ...)</pre></div> </div></div></div></div>"
      ],
      "text/plain": [
       "XGBClassifier(base_score=None, booster=None, callbacks=None,\n",
       "              colsample_bylevel=None, colsample_bynode=None,\n",
       "              colsample_bytree=None, device=None, early_stopping_rounds=None,\n",
       "              enable_categorical=False, eval_metric='mlogloss',\n",
       "              feature_types=None, gamma=None, grow_policy=None,\n",
       "              importance_type=None, interaction_constraints=None,\n",
       "              learning_rate=None, max_bin=None, max_cat_threshold=None,\n",
       "              max_cat_to_onehot=None, max_delta_step=None, max_depth=None,\n",
       "              max_leaves=None, min_child_weight=None, missing=nan,\n",
       "              monotone_constraints=None, multi_strategy=None, n_estimators=None,\n",
       "              n_jobs=None, num_parallel_tree=None, objective='multi:softprob', ...)"
      ]
     },
     "execution_count": 55,
     "metadata": {},
     "output_type": "execute_result"
    }
   ],
   "source": [
    "# Creating an instance of the XGBoost classifier\n",
    "modelXGB = xgb.XGBClassifier(\n",
    "    use_label_encoder=False,  # Disables the use of the label encoder, which was deprecated in recent versions\n",
    "    eval_metric='mlogloss'    # Seting the evaluation metric to multi-class log loss (cross-entropy loss)\n",
    ")\n",
    "\n",
    "# Training the XGBoost model using the training data\n",
    "modelXGB.fit(X_train, y_train)"
   ]
  },
  {
   "cell_type": "code",
   "execution_count": 56,
   "metadata": {},
   "outputs": [],
   "source": [
    "# Predict on the test set\n",
    "y_pred = modelXGB.predict(X_test)\n",
    "\n",
    "# Calculate accuracy\n",
    "xgb_accuracy = accuracy_score(y_test, y_pred)\n",
    "\n",
    "# Make sure to predict fprobabilities if calculating log loss\n",
    "y_pred_proba = modelXGB.predict_proba(X_test)\n",
    "\n",
    "# Calculate log loss, assuming y_test is properly formatted for a classification problem\n",
    "xgb_loss = log_loss(y_test, y_pred_proba)"
   ]
  },
  {
   "cell_type": "code",
   "execution_count": 57,
   "metadata": {},
   "outputs": [],
   "source": [
    "# Confusion Matrix\n",
    "conf_matrix = confusion_matrix(y_test, y_pred)\n",
    "tp = conf_matrix[1, 1]  # True Positive\n",
    "fn = conf_matrix[1, 0]  # False Negative\n",
    "tn = conf_matrix[0, 0]  # True Negative\n",
    "fp = conf_matrix[0, 1]  # False Positive\n",
    "\n",
    "# Sensitivity (Recall or True Positive Rate)\n",
    "sensitivity = tp / (tp + fn)\n",
    "\n",
    "# Specificity (True Negative Rate)\n",
    "specificity = tn / (tn + fp)"
   ]
  },
  {
   "cell_type": "code",
   "execution_count": 58,
   "metadata": {},
   "outputs": [],
   "source": [
    "# Storing the XGBoost model stats in a dictionary\n",
    "\n",
    "xgb_stats = {\n",
    "    'Accuracy': xgb_accuracy * 100,\n",
    "    'Loss': xgb_loss * 100,\n",
    "    'Precision': precision,\n",
    "    'Recall': recall,\n",
    "    'F1-Score': f1,\n",
    "    'Matthews Correlation Coefficient': mcc,\n",
    "    'Cohen\\'s Kappa': kappa,\n",
    "    'RMSE': rmse,\n",
    "    'RSS': rss,\n",
    "    'MAPE': mape,\n",
    "    'Sensitivity': sensitivity,\n",
    "    'Specificity': specificity\n",
    "}"
   ]
  },
  {
   "cell_type": "code",
   "execution_count": 59,
   "metadata": {},
   "outputs": [
    {
     "name": "stdout",
     "output_type": "stream",
     "text": [
      "XGBoost Model \n",
      "------------------------------------\n",
      "Accuracy: 69.23%\n",
      "Log Loss: 0.8214\n",
      "Precision: 0.66\n",
      "Recall: 0.64\n",
      "F1-Score: 0.64\n",
      "Matthews Correlation Coefficient: 0.56\n",
      "Cohen's Kappa: 0.56\n",
      "RMSE: 1.2016055643194192\n",
      "RSS: 2726\n",
      "MAPE: 646438293971083.1\n",
      "Sensitivity: 0.7228070175438597\n",
      "Specificity: 0.6573426573426573\n"
     ]
    }
   ],
   "source": [
    "# Printing the results of the XGBoost model\n",
    "\n",
    "print(\"XGBoost Model \\n------------------------------------\")\n",
    "print(f\"Accuracy: {xgb_accuracy * 100:.2f}%\")\n",
    "print(f\"Log Loss: {xgb_loss:.4f}\")\n",
    "print(f\"Precision: {precision:.2f}\")\n",
    "print(f\"Recall: {recall:.2f}\")\n",
    "print(f\"F1-Score: {f1:.2f}\")\n",
    "print(f\"Matthews Correlation Coefficient: {mcc:.2f}\")\n",
    "print(f\"Cohen's Kappa: {kappa:.2f}\")\n",
    "print(f\"RMSE: {rmse}\")\n",
    "print(f\"RSS: {rss}\")\n",
    "print(f\"MAPE: {mape}\")\n",
    "print(f\"Sensitivity: {sensitivity}\")\n",
    "print(f\"Specificity: {specificity}\")"
   ]
  },
  {
   "cell_type": "code",
   "execution_count": 60,
   "metadata": {},
   "outputs": [
    {
     "data": {
      "image/png": "[encoded data removed]",
      "text/plain": [
       "<Figure size 800x600 with 2 Axes>"
      ]
     },
     "metadata": {},
     "output_type": "display_data"
    }
   ],
   "source": [
    "# Plot Confusion Matrix as a Heatmap\n",
    "plt.figure(figsize=(8, 6))\n",
    "sns.heatmap(conf_matrix, annot=True, fmt='d', cmap='magma', xticklabels=class_names, yticklabels=class_names)\n",
    "plt.title('Confusion Matrix for XGBoost Model')\n",
    "plt.xlabel('Predicted Label')\n",
    "plt.ylabel('True Label')\n",
    "plt.show()"
   ]
  },
  {
   "cell_type": "code",
   "execution_count": 61,
   "metadata": {},
   "outputs": [
    {
     "name": "stdout",
     "output_type": "stream",
     "text": [
      "Classification Report:\n",
      "              precision    recall  f1-score   support\n",
      "\n",
      "           0       0.53      0.50      0.51       378\n",
      "           1       0.55      0.55      0.55       377\n",
      "           2       0.76      0.79      0.78       378\n",
      "           3       0.68      0.72      0.70       377\n",
      "           4       0.93      0.90      0.92       378\n",
      "\n",
      "    accuracy                           0.69      1888\n",
      "   macro avg       0.69      0.69      0.69      1888\n",
      "weighted avg       0.69      0.69      0.69      1888\n",
      "\n"
     ]
    }
   ],
   "source": [
    "# Classification Report\n",
    "class_report = classification_report(y_test, y_pred)\n",
    "print(\"Classification Report:\")\n",
    "print(class_report)"
   ]
  },
  {
   "cell_type": "markdown",
   "metadata": {},
   "source": [
    "## Implementing Recurrent Neural Network Model"
   ]
  },
  {
   "cell_type": "code",
   "execution_count": 62,
   "metadata": {},
   "outputs": [],
   "source": [
    "# Performing train, test and validation split of the data\n",
    "\n",
    "X_train, X_test, y_train, y_test = train_test_split(\n",
    "    lyrics, genre, test_size=0.25, random_state=42, stratify = genre\n",
    ")\n",
    "\n",
    "\n",
    "# Storing 25% of the training data for validation purposes that is 18.75% of the original dataset\n",
    "\n",
    "X_train, X_val, y_train, y_val = train_test_split(\n",
    "    X_train, y_train, test_size=0.25, random_state=42, stratify = y_train\n",
    ")"
   ]
  },
  {
   "cell_type": "code",
   "execution_count": 63,
   "metadata": {},
   "outputs": [],
   "source": [
    "# Creating a vocabulary from the training data using a custom function\n",
    "vocab = functions.create_vocab(X_train)\n",
    "\n",
    "# Calculate the size of the vocabulary (i.e., the number of unique words)\n",
    "vocabSize = len(vocab)"
   ]
  },
  {
   "cell_type": "code",
   "execution_count": 64,
   "metadata": {},
   "outputs": [],
   "source": [
    "# Function to convert words in the data into integer-encoded representations\n",
    "def integer_encoding(data):\n",
    "    newData = []  # Initialize an empty list to store the integer-encoded data\n",
    "    \n",
    "    for text in data:  # Iterate over each document (list of words) in the dataset\n",
    "        newText = []  # Initialize a list to store the integer-encoded version of the current document\n",
    "        \n",
    "        for word in text:  # Iterate over each word in the current document\n",
    "            if word not in vocab:\n",
    "                newText.append(1)  # If the word is not in the vocabulary, append 1\n",
    "            if word in vocab and vocab[word] > 0:  # Ensure the word is in the vocabulary and not an \"empty\" word\n",
    "                newText.append(vocab[word] + 1)  # Add 1 to the vocabulary index to avoid using 0\n",
    "        \n",
    "        newData.append(newText)  # Append the integer-encoded document to the newData list\n",
    "    \n",
    "    return newData  # Return the list of integer-encoded documents"
   ]
  },
  {
   "cell_type": "code",
   "execution_count": 65,
   "metadata": {},
   "outputs": [],
   "source": [
    "# Performing integer-encoding on the training, validation, and testing datasets\n",
    "\n",
    "X_train = integer_encoding(X_train)\n",
    "X_val = integer_encoding(X_val)\n",
    "X_test = integer_encoding(X_test)"
   ]
  },
  {
   "cell_type": "code",
   "execution_count": 66,
   "metadata": {},
   "outputs": [],
   "source": [
    "# Converting the genre labels into numerical classes using a mapping function\n",
    "\n",
    "y_train = y_train.apply(lambda x: functions.genre_to_class[x])\n",
    "y_val = y_val.apply(lambda x: functions.genre_to_class[x])\n",
    "y_test = y_test.apply(lambda x: functions.genre_to_class[x])"
   ]
  },
  {
   "cell_type": "markdown",
   "metadata": {},
   "source": [
    "### Padding"
   ]
  },
  {
   "cell_type": "code",
   "execution_count": 67,
   "metadata": {},
   "outputs": [],
   "source": [
    "# Function to calculate the maximum length of documents in the dataset\n",
    "def max_len(data):\n",
    "    maxLen = 0  # Initialize a variable to keep track of the maximum length\n",
    "    \n",
    "    # Iterate over each document (list of words) in the dataset\n",
    "    for text in data:\n",
    "        # If the current document's length is greater than maxLen, update maxLen\n",
    "        if len(text) > maxLen:\n",
    "            maxLen = len(text)\n",
    "    \n",
    "    return maxLen  # Return the maximum length found"
   ]
  },
  {
   "cell_type": "code",
   "execution_count": 68,
   "metadata": {},
   "outputs": [],
   "source": [
    "# Calculating the maximum length of sequences in the training data\n",
    "\n",
    "maxLen = max_len(X_train)"
   ]
  },
  {
   "cell_type": "code",
   "execution_count": 69,
   "metadata": {},
   "outputs": [],
   "source": [
    "# Pad the sequences in the training, validation, and test datasets to ensure they all have the same length\n",
    "\n",
    "X_train = sequence.pad_sequences(X_train, maxlen=maxLen)\n",
    "X_val = sequence.pad_sequences(X_val, maxlen=maxLen)\n",
    "X_test = sequence.pad_sequences(X_test, maxlen=maxLen)"
   ]
  },
  {
   "cell_type": "markdown",
   "metadata": {},
   "source": [
    "### Building the model"
   ]
  },
  {
   "cell_type": "code",
   "execution_count": 70,
   "metadata": {},
   "outputs": [],
   "source": [
    "# Recurrent Neural Network Model function\n",
    "def func_model():\n",
    "    # Input layer to accept sequences of variable length (None) with integer values (word indices)\n",
    "    input_layer = Input(shape=(None,), dtype=\"int64\")\n",
    "    \n",
    "    # Embedding layer to convert integer-encoded words into dense vectors\n",
    "    embedding = Embedding(vocabSize + 1, 64)(input_layer)\n",
    "    \n",
    "    # LSTM layer to process the embedded sequences and capture sequential dependencies\n",
    "    lstm = LSTM(64)(embedding)\n",
    "    \n",
    "    # Dense layer with softmax activation to output class probabilities\n",
    "    output_layer = Dense(5, activation=\"softmax\")(lstm)\n",
    "    \n",
    "    # Define the model by specifying the input and output layers\n",
    "    model = Model(inputs=input_layer, outputs=output_layer)\n",
    "    \n",
    "    # Return the constructed model\n",
    "    return model"
   ]
  },
  {
   "cell_type": "code",
   "execution_count": 71,
   "metadata": {},
   "outputs": [],
   "source": [
    "# Creating the RNN model\n",
    "\n",
    "model_RNN = func_model()"
   ]
  },
  {
   "cell_type": "code",
   "execution_count": 72,
   "metadata": {},
   "outputs": [
    {
     "data": {
      "text/html": [
       "<pre style=\"white-space:pre;overflow-x:auto;line-height:normal;font-family:Menlo,'DejaVu Sans Mono',consolas,'Courier New',monospace\"><span style=\"font-weight: bold\">Model: \"functional_1\"</span>\n",
       "</pre>\n"
      ],
      "text/plain": [
       "\u001b[1mModel: \"functional_1\"\u001b[0m\n"
      ]
     },
     "metadata": {},
     "output_type": "display_data"
    },
    {
     "data": {
      "text/html": [
       "<pre style=\"white-space:pre;overflow-x:auto;line-height:normal;font-family:Menlo,'DejaVu Sans Mono',consolas,'Courier New',monospace\">┏━━━━━━━━━━━━━━━━━━━━━━━━━━━━━━━━━┳━━━━━━━━━━━━━━━━━━━━━━━━┳━━━━━━━━━━━━━━━┓\n",
       "┃<span style=\"font-weight: bold\"> Layer (type)                    </span>┃<span style=\"font-weight: bold\"> Output Shape           </span>┃<span style=\"font-weight: bold\">       Param # </span>┃\n",
       "┡━━━━━━━━━━━━━━━━━━━━━━━━━━━━━━━━━╇━━━━━━━━━━━━━━━━━━━━━━━━╇━━━━━━━━━━━━━━━┩\n",
       "│ input_layer_1 (<span style=\"color: #0087ff; text-decoration-color: #0087ff\">InputLayer</span>)      │ (<span style=\"color: #00d7ff; text-decoration-color: #00d7ff\">None</span>, <span style=\"color: #00d7ff; text-decoration-color: #00d7ff\">None</span>)           │             <span style=\"color: #00af00; text-decoration-color: #00af00\">0</span> │\n",
       "├─────────────────────────────────┼────────────────────────┼───────────────┤\n",
       "│ embedding (<span style=\"color: #0087ff; text-decoration-color: #0087ff\">Embedding</span>)           │ (<span style=\"color: #00d7ff; text-decoration-color: #00d7ff\">None</span>, <span style=\"color: #00d7ff; text-decoration-color: #00d7ff\">None</span>, <span style=\"color: #00af00; text-decoration-color: #00af00\">64</span>)       │     <span style=\"color: #00af00; text-decoration-color: #00af00\">1,927,872</span> │\n",
       "├─────────────────────────────────┼────────────────────────┼───────────────┤\n",
       "│ lstm (<span style=\"color: #0087ff; text-decoration-color: #0087ff\">LSTM</span>)                     │ (<span style=\"color: #00d7ff; text-decoration-color: #00d7ff\">None</span>, <span style=\"color: #00af00; text-decoration-color: #00af00\">64</span>)             │        <span style=\"color: #00af00; text-decoration-color: #00af00\">33,024</span> │\n",
       "├─────────────────────────────────┼────────────────────────┼───────────────┤\n",
       "│ dense_3 (<span style=\"color: #0087ff; text-decoration-color: #0087ff\">Dense</span>)                 │ (<span style=\"color: #00d7ff; text-decoration-color: #00d7ff\">None</span>, <span style=\"color: #00af00; text-decoration-color: #00af00\">5</span>)              │           <span style=\"color: #00af00; text-decoration-color: #00af00\">325</span> │\n",
       "└─────────────────────────────────┴────────────────────────┴───────────────┘\n",
       "</pre>\n"
      ],
      "text/plain": [
       "┏━━━━━━━━━━━━━━━━━━━━━━━━━━━━━━━━━┳━━━━━━━━━━━━━━━━━━━━━━━━┳━━━━━━━━━━━━━━━┓\n",
       "┃\u001b[1m \u001b[0m\u001b[1mLayer (type)                   \u001b[0m\u001b[1m \u001b[0m┃\u001b[1m \u001b[0m\u001b[1mOutput Shape          \u001b[0m\u001b[1m \u001b[0m┃\u001b[1m \u001b[0m\u001b[1m      Param #\u001b[0m\u001b[1m \u001b[0m┃\n",
       "┡━━━━━━━━━━━━━━━━━━━━━━━━━━━━━━━━━╇━━━━━━━━━━━━━━━━━━━━━━━━╇━━━━━━━━━━━━━━━┩\n",
       "│ input_layer_1 (\u001b[38;5;33mInputLayer\u001b[0m)      │ (\u001b[38;5;45mNone\u001b[0m, \u001b[38;5;45mNone\u001b[0m)           │             \u001b[38;5;34m0\u001b[0m │\n",
       "├─────────────────────────────────┼────────────────────────┼───────────────┤\n",
       "│ embedding (\u001b[38;5;33mEmbedding\u001b[0m)           │ (\u001b[38;5;45mNone\u001b[0m, \u001b[38;5;45mNone\u001b[0m, \u001b[38;5;34m64\u001b[0m)       │     \u001b[38;5;34m1,927,872\u001b[0m │\n",
       "├─────────────────────────────────┼────────────────────────┼───────────────┤\n",
       "│ lstm (\u001b[38;5;33mLSTM\u001b[0m)                     │ (\u001b[38;5;45mNone\u001b[0m, \u001b[38;5;34m64\u001b[0m)             │        \u001b[38;5;34m33,024\u001b[0m │\n",
       "├─────────────────────────────────┼────────────────────────┼───────────────┤\n",
       "│ dense_3 (\u001b[38;5;33mDense\u001b[0m)                 │ (\u001b[38;5;45mNone\u001b[0m, \u001b[38;5;34m5\u001b[0m)              │           \u001b[38;5;34m325\u001b[0m │\n",
       "└─────────────────────────────────┴────────────────────────┴───────────────┘\n"
      ]
     },
     "metadata": {},
     "output_type": "display_data"
    },
    {
     "data": {
      "text/html": [
       "<pre style=\"white-space:pre;overflow-x:auto;line-height:normal;font-family:Menlo,'DejaVu Sans Mono',consolas,'Courier New',monospace\"><span style=\"font-weight: bold\"> Total params: </span><span style=\"color: #00af00; text-decoration-color: #00af00\">1,961,221</span> (7.48 MB)\n",
       "</pre>\n"
      ],
      "text/plain": [
       "\u001b[1m Total params: \u001b[0m\u001b[38;5;34m1,961,221\u001b[0m (7.48 MB)\n"
      ]
     },
     "metadata": {},
     "output_type": "display_data"
    },
    {
     "data": {
      "text/html": [
       "<pre style=\"white-space:pre;overflow-x:auto;line-height:normal;font-family:Menlo,'DejaVu Sans Mono',consolas,'Courier New',monospace\"><span style=\"font-weight: bold\"> Trainable params: </span><span style=\"color: #00af00; text-decoration-color: #00af00\">1,961,221</span> (7.48 MB)\n",
       "</pre>\n"
      ],
      "text/plain": [
       "\u001b[1m Trainable params: \u001b[0m\u001b[38;5;34m1,961,221\u001b[0m (7.48 MB)\n"
      ]
     },
     "metadata": {},
     "output_type": "display_data"
    },
    {
     "data": {
      "text/html": [
       "<pre style=\"white-space:pre;overflow-x:auto;line-height:normal;font-family:Menlo,'DejaVu Sans Mono',consolas,'Courier New',monospace\"><span style=\"font-weight: bold\"> Non-trainable params: </span><span style=\"color: #00af00; text-decoration-color: #00af00\">0</span> (0.00 B)\n",
       "</pre>\n"
      ],
      "text/plain": [
       "\u001b[1m Non-trainable params: \u001b[0m\u001b[38;5;34m0\u001b[0m (0.00 B)\n"
      ]
     },
     "metadata": {},
     "output_type": "display_data"
    }
   ],
   "source": [
    "# Printing the model summary\n",
    "\n",
    "model_RNN.summary()"
   ]
  },
  {
   "cell_type": "code",
   "execution_count": 73,
   "metadata": {},
   "outputs": [],
   "source": [
    "# creating checkpoint to save the best model\n",
    "\n",
    "checkpoint = tf.keras.callbacks.ModelCheckpoint(\n",
    "    filepath='model_checkpoint_RNN.keras',  # Path to save the model file with .keras extension\n",
    "    monitor='val_accuracy',                 # Metric to monitor\n",
    "    save_best_only=True,                # Only save the best model\n",
    "    save_weights_only=False,            # Whether to save only the model weights\n",
    ")"
   ]
  },
  {
   "cell_type": "code",
   "execution_count": 74,
   "metadata": {},
   "outputs": [],
   "source": [
    "# Compiling the RNN model\n",
    "\n",
    "model_RNN.compile(\n",
    "    loss=\"sparse_categorical_crossentropy\",  # Loss function: suitable for multi-class classification with integer labels\n",
    "    optimizer=\"rmsprop\",                     # Optimizer: RMSprop is an adaptive learning rate optimizer\n",
    "    metrics=['accuracy']                     # Metrics: the model's performance will be evaluated based on accuracy\n",
    ")"
   ]
  },
  {
   "cell_type": "code",
   "execution_count": 75,
   "metadata": {},
   "outputs": [
    {
     "name": "stdout",
     "output_type": "stream",
     "text": [
      "Epoch 1/10\n",
      "\u001b[1m17/17\u001b[0m \u001b[32m━━━━━━━━━━━━━━━━━━━━\u001b[0m\u001b[37m\u001b[0m \u001b[1m34s\u001b[0m 2s/step - accuracy: 0.2158 - loss: 1.6092 - val_accuracy: 0.2655 - val_loss: 1.6064\n",
      "Epoch 2/10\n",
      "\u001b[1m17/17\u001b[0m \u001b[32m━━━━━━━━━━━━━━━━━━━━\u001b[0m\u001b[37m\u001b[0m \u001b[1m32s\u001b[0m 2s/step - accuracy: 0.3001 - loss: 1.6027 - val_accuracy: 0.3234 - val_loss: 1.5738\n",
      "Epoch 3/10\n",
      "\u001b[1m17/17\u001b[0m \u001b[32m━━━━━━━━━━━━━━━━━━━━\u001b[0m\u001b[37m\u001b[0m \u001b[1m33s\u001b[0m 2s/step - accuracy: 0.3328 - loss: 1.5142 - val_accuracy: 0.3588 - val_loss: 1.4013\n",
      "Epoch 4/10\n",
      "\u001b[1m17/17\u001b[0m \u001b[32m━━━━━━━━━━━━━━━━━━━━\u001b[0m\u001b[37m\u001b[0m \u001b[1m32s\u001b[0m 2s/step - accuracy: 0.3884 - loss: 1.3616 - val_accuracy: 0.3694 - val_loss: 1.3407\n",
      "Epoch 5/10\n",
      "\u001b[1m17/17\u001b[0m \u001b[32m━━━━━━━━━━━━━━━━━━━━\u001b[0m\u001b[37m\u001b[0m \u001b[1m32s\u001b[0m 2s/step - accuracy: 0.3903 - loss: 1.2975 - val_accuracy: 0.3898 - val_loss: 1.3283\n",
      "Epoch 6/10\n",
      "\u001b[1m17/17\u001b[0m \u001b[32m━━━━━━━━━━━━━━━━━━━━\u001b[0m\u001b[37m\u001b[0m \u001b[1m32s\u001b[0m 2s/step - accuracy: 0.4327 - loss: 1.2586 - val_accuracy: 0.4018 - val_loss: 1.3562\n",
      "Epoch 7/10\n",
      "\u001b[1m17/17\u001b[0m \u001b[32m━━━━━━━━━━━━━━━━━━━━\u001b[0m\u001b[37m\u001b[0m \u001b[1m33s\u001b[0m 2s/step - accuracy: 0.5179 - loss: 1.2079 - val_accuracy: 0.4534 - val_loss: 1.2675\n",
      "Epoch 8/10\n",
      "\u001b[1m17/17\u001b[0m \u001b[32m━━━━━━━━━━━━━━━━━━━━\u001b[0m\u001b[37m\u001b[0m \u001b[1m34s\u001b[0m 2s/step - accuracy: 0.5403 - loss: 1.1078 - val_accuracy: 0.4287 - val_loss: 1.2795\n",
      "Epoch 9/10\n",
      "\u001b[1m17/17\u001b[0m \u001b[32m━━━━━━━━━━━━━━━━━━━━\u001b[0m\u001b[37m\u001b[0m \u001b[1m33s\u001b[0m 2s/step - accuracy: 0.5810 - loss: 1.0480 - val_accuracy: 0.4866 - val_loss: 1.2296\n",
      "Epoch 10/10\n",
      "\u001b[1m17/17\u001b[0m \u001b[32m━━━━━━━━━━━━━━━━━━━━\u001b[0m\u001b[37m\u001b[0m \u001b[1m32s\u001b[0m 2s/step - accuracy: 0.6051 - loss: 0.9808 - val_accuracy: 0.4816 - val_loss: 1.2473\n"
     ]
    }
   ],
   "source": [
    "# Train the RNN model using\n",
    "history = model_RNN.fit(\n",
    "    X_train,               # Training data features (padded sequences)\n",
    "    y_train,               # Training data labels (integer-encoded class labels)\n",
    "    epochs=10,             # Number of epochs (complete passes through the training data)\n",
    "    batch_size=256,        # Number of samples per gradient update (mini-batch size)\n",
    "    validation_data=(X_val, y_val),  # Validation data and labels for evaluating the model after each epoch\n",
    "    verbose=1,             # Verbosity mode (1 = progress bar, 0 = silent, 2 = one line per epoch)\n",
    "    callbacks=[checkpoint] # List of callback functions to apply during training (e.g., saving model checkpoints)\n",
    ")"
   ]
  },
  {
   "cell_type": "code",
   "execution_count": 76,
   "metadata": {},
   "outputs": [
    {
     "data": {
      "image/png": "[encoded data removed]",
      "text/plain": [
       "<Figure size 640x480 with 1 Axes>"
      ]
     },
     "metadata": {},
     "output_type": "display_data"
    }
   ],
   "source": [
    "# Printing the model stats\n",
    "\n",
    "plt.plot(history.history['accuracy'])\n",
    "plt.plot(history.history['val_accuracy'])\n",
    "plt.title('RNN model accuracy')\n",
    "plt.ylabel('accuracy')\n",
    "plt.xlabel('epoch')\n",
    "plt.legend(['training', 'validation'], loc='best')\n",
    "plt.show()"
   ]
  },
  {
   "cell_type": "code",
   "execution_count": 77,
   "metadata": {},
   "outputs": [],
   "source": [
    "# Function to predict the genre of given songs using a trained model\n",
    "def predict_genre(model, songs):\n",
    "    # Clean the songs' lyrics\n",
    "    songs = functions.clean_data(songs)\n",
    "    \n",
    "    # Splitting the cleaned lyrics into individual words\n",
    "    songs = functions.split_data(songs)\n",
    "    \n",
    "    # Stemming the words to reduce them to their root forms\n",
    "    songs = functions.stem(songs)\n",
    "    \n",
    "    # Removing common stopwords from the lyrics\n",
    "    songs = functions.remove_stopwords(songs)\n",
    "    \n",
    "    # Converting the processed lyrics into integer-encoded sequences using the vocabulary\n",
    "    songs = integer_encoding(songs)\n",
    "    \n",
    "    # Padding the sequences to ensure they all have the same length (maxLen)\n",
    "    songs = sequence.pad_sequences(songs, maxlen=maxLen)\n",
    "    \n",
    "    # Using the trained model to predict the genre of the songs\n",
    "    return model.predict(songs)"
   ]
  },
  {
   "cell_type": "code",
   "execution_count": 78,
   "metadata": {},
   "outputs": [
    {
     "name": "stdout",
     "output_type": "stream",
     "text": [
      "\u001b[1m1/1\u001b[0m \u001b[32m━━━━━━━━━━━━━━━━━━━━\u001b[0m\u001b[37m\u001b[0m \u001b[1m0s\u001b[0m 122ms/step\n"
     ]
    },
    {
     "data": {
      "text/plain": [
       "array([[0.00452887, 0.01154016, 0.00302031, 0.01594685, 0.9649638 ]],\n",
       "      dtype=float32)"
      ]
     },
     "execution_count": 78,
     "metadata": {},
     "output_type": "execute_result"
    }
   ],
   "source": [
    "# Predicting the genre of the song\n",
    "\n",
    "predict_genre(model_RNN, song_lyrics)"
   ]
  },
  {
   "cell_type": "code",
   "execution_count": 79,
   "metadata": {},
   "outputs": [
    {
     "name": "stdout",
     "output_type": "stream",
     "text": [
      "\u001b[1m59/59\u001b[0m \u001b[32m━━━━━━━━━━━━━━━━━━━━\u001b[0m\u001b[37m\u001b[0m \u001b[1m5s\u001b[0m 89ms/step\n"
     ]
    }
   ],
   "source": [
    "# Make predictions on the test set using the trained RNN model\n",
    "y_pred_prob = model_RNN.predict(X_test)\n",
    "\n",
    "# Convert the predicted probabilities into class labels by selecting the index with the highest probability\n",
    "y_pred = np.argmax(y_pred_prob, axis=1)"
   ]
  },
  {
   "cell_type": "code",
   "execution_count": 80,
   "metadata": {},
   "outputs": [],
   "source": [
    "# Convert y_test to a DataFrame with a column named 'Genre'\n",
    "y_test_df = pd.DataFrame(y_test, columns=['Genre'])\n",
    "\n",
    "# Perform one-hot encoding on the 'Genre' column\n",
    "y_test_one_hot = pd.get_dummies(y_test_df, columns=['Genre'])\n",
    "\n",
    "# Get the class names by finding the index of the maximum value in the one-hot encoded array\n",
    "y_test_classes = np.argmax(y_test_one_hot.values, axis=1)"
   ]
  },
  {
   "cell_type": "code",
   "execution_count": 81,
   "metadata": {},
   "outputs": [],
   "source": [
    "# Confusion Matrix\n",
    "conf_matrix = confusion_matrix(y_test_classes, y_pred)"
   ]
  },
  {
   "cell_type": "code",
   "execution_count": 82,
   "metadata": {},
   "outputs": [],
   "source": [
    "# Calculate the Matthews Correlation Coefficient (MCC)\n",
    "mcc = matthews_corrcoef(y_test, y_pred_classes)\n",
    "\n",
    "# Calculate Cohen's Kappa score\n",
    "kappa = cohen_kappa_score(y_test, y_pred_classes)\n",
    "\n",
    "if len(y_pred_proba.shape) == 1 or y_pred_proba.shape[1] == 1:\n",
    "    y_pred_positive_proba = y_pred_proba.flatten()  # Ensure it's a 1D array\n",
    "else:\n",
    "    # Assume the second column corresponds to the positive class probabilities\n",
    "    y_pred_positive_proba = y_pred_proba[:, 1]  # This is typical for softmax with two outputs"
   ]
  },
  {
   "cell_type": "code",
   "execution_count": 83,
   "metadata": {},
   "outputs": [
    {
     "name": "stdout",
     "output_type": "stream",
     "text": [
      "\u001b[1m59/59\u001b[0m \u001b[32m━━━━━━━━━━━━━━━━━━━━\u001b[0m\u001b[37m\u001b[0m \u001b[1m5s\u001b[0m 89ms/step - accuracy: 0.5299 - loss: 1.1508\n"
     ]
    }
   ],
   "source": [
    "# Calculate Root Mean Squared Error (RMSE)\n",
    "rmse = np.sqrt(mean_squared_error(y_test, y_pred_positive_proba))\n",
    "\n",
    "# Calculate Residual Sum of Squares (RSS)\n",
    "rss = np.sum(np.square(y_test - y_pred_positive_proba))\n",
    "\n",
    "# Calculate Mean Absolute Percentage Error (MAPE)\n",
    "mape = mean_absolute_percentage_error(y_test, y_pred_positive_proba)\n",
    "\n",
    "# Evaluate the model on the test set to get loss and accuracy\n",
    "rnn_loss, rnn_accuracy = model_RNN.evaluate(X_test, y_test)\n",
    "\n",
    "# Calculate precision, recall, and F1-score\n",
    "precision = precision_score(y_test_classes, y_pred, average='weighted')\n",
    "recall = recall_score(y_test_classes, y_pred, average='weighted')\n",
    "f1 = f1_score(y_test_classes, y_pred, average='weighted')"
   ]
  },
  {
   "cell_type": "code",
   "execution_count": 84,
   "metadata": {},
   "outputs": [],
   "source": [
    "# Storing the model stats in a dictionary\n",
    "\n",
    "rnn_stats = {\n",
    "    'Accuracy': rnn_accuracy * 100,\n",
    "    'Loss': rnn_loss * 100,\n",
    "    'Precision': precision,\n",
    "    'Recall': recall,\n",
    "    'F1-Score': f1,\n",
    "    'Matthews Correlation Coefficient': mcc,\n",
    "    'Cohen\\'s Kappa': kappa,\n",
    "    'RMSE': rmse,\n",
    "    'RSS': rss,\n",
    "    'MAPE': mape,\n",
    "    'Sensitivity': sensitivity,\n",
    "    'Specificity': specificity\n",
    "}"
   ]
  },
  {
   "cell_type": "code",
   "execution_count": 85,
   "metadata": {},
   "outputs": [
    {
     "name": "stdout",
     "output_type": "stream",
     "text": [
      "RNN Model \n",
      "---------------------------\n",
      "Accuracy: 52.07%\n",
      "Loss: 117.55%\n",
      "Precision: 0.529\n",
      "Recall: 0.521\n",
      "F1-Score: 0.480\n",
      "Matthew's Correlation Coefficient (MCC): 0.561\n",
      "Cohen's Kappa: 0.556\n",
      "RMSE: 2.361\n",
      "RSS: 10525.010\n",
      "MAPE: 245617597577598.500\n"
     ]
    }
   ],
   "source": [
    "# Printing the results of the RNN model\n",
    "\n",
    "print(f\"RNN Model \\n---------------------------\")\n",
    "print(f\"Accuracy: {rnn_accuracy * 100:.2f}%\")\n",
    "print(f\"Loss: {rnn_loss * 100:.2f}%\")\n",
    "print(f\"Precision: {precision:.3f}\")\n",
    "print(f\"Recall: {recall:.3f}\")\n",
    "print(f\"F1-Score: {f1:.3f}\")\n",
    "print(f\"Matthew's Correlation Coefficient (MCC): {mcc:.3f}\")\n",
    "print(f\"Cohen's Kappa: {kappa:.3f}\")\n",
    "print(f\"RMSE: {rmse:.3f}\")\n",
    "print(f\"RSS: {rss:.3f}\")\n",
    "print(f\"MAPE: {mape:.3f}\")"
   ]
  },
  {
   "cell_type": "code",
   "execution_count": 86,
   "metadata": {},
   "outputs": [
    {
     "data": {
      "image/png": "[encoded data removed]",
      "text/plain": [
       "<Figure size 800x600 with 2 Axes>"
      ]
     },
     "metadata": {},
     "output_type": "display_data"
    }
   ],
   "source": [
    "# Plot Confusion Matrix as a Heatmap\n",
    "\n",
    "plt.figure(figsize=(8, 6))\n",
    "sns.heatmap(conf_matrix, annot=True, fmt='d', cmap='magma', xticklabels=class_names, yticklabels=class_names)\n",
    "plt.title('Confusion Matrix of RNN Model')\n",
    "plt.xlabel('Predicted Label')\n",
    "plt.ylabel('True Label')\n",
    "plt.show()"
   ]
  },
  {
   "cell_type": "code",
   "execution_count": 87,
   "metadata": {},
   "outputs": [
    {
     "name": "stdout",
     "output_type": "stream",
     "text": [
      "Classification Report:\n",
      "              precision    recall  f1-score   support\n",
      "\n",
      "           0       0.37      0.08      0.13       378\n",
      "           1       0.33      0.43      0.37       377\n",
      "           2       0.46      0.85      0.59       378\n",
      "           3       0.70      0.34      0.46       377\n",
      "           4       0.79      0.90      0.84       378\n",
      "\n",
      "    accuracy                           0.52      1888\n",
      "   macro avg       0.53      0.52      0.48      1888\n",
      "weighted avg       0.53      0.52      0.48      1888\n",
      "\n"
     ]
    }
   ],
   "source": [
    "# Classification Report\n",
    "\n",
    "class_report = classification_report(y_test_classes, y_pred)\n",
    "print(\"Classification Report:\")\n",
    "print(class_report)"
   ]
  },
  {
   "cell_type": "markdown",
   "metadata": {},
   "source": [
    "## Implementing Convolutional Neural Network Model"
   ]
  },
  {
   "cell_type": "code",
   "execution_count": 88,
   "metadata": {},
   "outputs": [],
   "source": [
    "# Function to define a CNN model\n",
    "def func_model():\n",
    "    # Input layer\n",
    "    input_layer = Input(shape=(None,), dtype=\"int64\")\n",
    "    \n",
    "    # Embedding layer to convert integer-encoded words into dense vectors\n",
    "    embedding = Embedding(vocabSize + 1, 64)(input_layer)\n",
    "    \n",
    "    # First Conv1D layer with 128 filters and a kernel size of 5, with relu acitvation function\n",
    "    conv1 = Conv1D(128, 5, activation=\"relu\")(embedding)\n",
    "    \n",
    "    # First MaxPooling layer with a pool size of 5\n",
    "    pool1 = MaxPooling1D(5)(conv1)\n",
    "    \n",
    "    # Second Conv1D layer with 128 filters and a kernel size of 5\n",
    "    conv2 = Conv1D(128, 5, activation=\"relu\")(pool1)\n",
    "    \n",
    "    # Second MaxPooling layer with a pool size of 5\n",
    "    pool2 = MaxPooling1D(5)(conv2)\n",
    "    \n",
    "    # Third Conv1D layer with 128 filters and a kernel size of 5\n",
    "    conv3 = Conv1D(128, 5, activation=\"relu\")(pool2)\n",
    "    \n",
    "    # Global max pooling layer to reduce the dimensionality by taking the maximum value over time\n",
    "    g_pool = GlobalMaxPooling1D()(conv3)\n",
    "    \n",
    "    # Fully connected (dense) layer with 128 units and ReLU activation\n",
    "    dense1 = Dense(128, activation=\"relu\")(g_pool)\n",
    "    \n",
    "    # Dropout layer to prevent overfitting, with a dropout rate of 0.2\n",
    "    dropout = Dropout(0.2)(dense1)\n",
    "    \n",
    "    # Output layer with 5 units (for 5 classes) and softmax activation to output class probabilities\n",
    "    output_layer = Dense(5, activation=\"softmax\")(dropout)\n",
    "    \n",
    "    # Define the model by specifying the input and output layers\n",
    "    model = Model(inputs=input_layer, outputs=output_layer)\n",
    "    \n",
    "    # Return the constructed model\n",
    "    return model"
   ]
  },
  {
   "cell_type": "code",
   "execution_count": 89,
   "metadata": {},
   "outputs": [],
   "source": [
    "# Creating the CNN model\n",
    "\n",
    "model_CNN = func_model()"
   ]
  },
  {
   "cell_type": "code",
   "execution_count": 90,
   "metadata": {},
   "outputs": [
    {
     "data": {
      "text/html": [
       "<pre style=\"white-space:pre;overflow-x:auto;line-height:normal;font-family:Menlo,'DejaVu Sans Mono',consolas,'Courier New',monospace\"><span style=\"font-weight: bold\">Model: \"functional_2\"</span>\n",
       "</pre>\n"
      ],
      "text/plain": [
       "\u001b[1mModel: \"functional_2\"\u001b[0m\n"
      ]
     },
     "metadata": {},
     "output_type": "display_data"
    },
    {
     "data": {
      "text/html": [
       "<pre style=\"white-space:pre;overflow-x:auto;line-height:normal;font-family:Menlo,'DejaVu Sans Mono',consolas,'Courier New',monospace\">┏━━━━━━━━━━━━━━━━━━━━━━━━━━━━━━━━━┳━━━━━━━━━━━━━━━━━━━━━━━━┳━━━━━━━━━━━━━━━┓\n",
       "┃<span style=\"font-weight: bold\"> Layer (type)                    </span>┃<span style=\"font-weight: bold\"> Output Shape           </span>┃<span style=\"font-weight: bold\">       Param # </span>┃\n",
       "┡━━━━━━━━━━━━━━━━━━━━━━━━━━━━━━━━━╇━━━━━━━━━━━━━━━━━━━━━━━━╇━━━━━━━━━━━━━━━┩\n",
       "│ input_layer_2 (<span style=\"color: #0087ff; text-decoration-color: #0087ff\">InputLayer</span>)      │ (<span style=\"color: #00d7ff; text-decoration-color: #00d7ff\">None</span>, <span style=\"color: #00d7ff; text-decoration-color: #00d7ff\">None</span>)           │             <span style=\"color: #00af00; text-decoration-color: #00af00\">0</span> │\n",
       "├─────────────────────────────────┼────────────────────────┼───────────────┤\n",
       "│ embedding_1 (<span style=\"color: #0087ff; text-decoration-color: #0087ff\">Embedding</span>)         │ (<span style=\"color: #00d7ff; text-decoration-color: #00d7ff\">None</span>, <span style=\"color: #00d7ff; text-decoration-color: #00d7ff\">None</span>, <span style=\"color: #00af00; text-decoration-color: #00af00\">64</span>)       │     <span style=\"color: #00af00; text-decoration-color: #00af00\">1,927,872</span> │\n",
       "├─────────────────────────────────┼────────────────────────┼───────────────┤\n",
       "│ conv1d (<span style=\"color: #0087ff; text-decoration-color: #0087ff\">Conv1D</span>)                 │ (<span style=\"color: #00d7ff; text-decoration-color: #00d7ff\">None</span>, <span style=\"color: #00d7ff; text-decoration-color: #00d7ff\">None</span>, <span style=\"color: #00af00; text-decoration-color: #00af00\">128</span>)      │        <span style=\"color: #00af00; text-decoration-color: #00af00\">41,088</span> │\n",
       "├─────────────────────────────────┼────────────────────────┼───────────────┤\n",
       "│ max_pooling1d (<span style=\"color: #0087ff; text-decoration-color: #0087ff\">MaxPooling1D</span>)    │ (<span style=\"color: #00d7ff; text-decoration-color: #00d7ff\">None</span>, <span style=\"color: #00d7ff; text-decoration-color: #00d7ff\">None</span>, <span style=\"color: #00af00; text-decoration-color: #00af00\">128</span>)      │             <span style=\"color: #00af00; text-decoration-color: #00af00\">0</span> │\n",
       "├─────────────────────────────────┼────────────────────────┼───────────────┤\n",
       "│ conv1d_1 (<span style=\"color: #0087ff; text-decoration-color: #0087ff\">Conv1D</span>)               │ (<span style=\"color: #00d7ff; text-decoration-color: #00d7ff\">None</span>, <span style=\"color: #00d7ff; text-decoration-color: #00d7ff\">None</span>, <span style=\"color: #00af00; text-decoration-color: #00af00\">128</span>)      │        <span style=\"color: #00af00; text-decoration-color: #00af00\">82,048</span> │\n",
       "├─────────────────────────────────┼────────────────────────┼───────────────┤\n",
       "│ max_pooling1d_1 (<span style=\"color: #0087ff; text-decoration-color: #0087ff\">MaxPooling1D</span>)  │ (<span style=\"color: #00d7ff; text-decoration-color: #00d7ff\">None</span>, <span style=\"color: #00d7ff; text-decoration-color: #00d7ff\">None</span>, <span style=\"color: #00af00; text-decoration-color: #00af00\">128</span>)      │             <span style=\"color: #00af00; text-decoration-color: #00af00\">0</span> │\n",
       "├─────────────────────────────────┼────────────────────────┼───────────────┤\n",
       "│ conv1d_2 (<span style=\"color: #0087ff; text-decoration-color: #0087ff\">Conv1D</span>)               │ (<span style=\"color: #00d7ff; text-decoration-color: #00d7ff\">None</span>, <span style=\"color: #00d7ff; text-decoration-color: #00d7ff\">None</span>, <span style=\"color: #00af00; text-decoration-color: #00af00\">128</span>)      │        <span style=\"color: #00af00; text-decoration-color: #00af00\">82,048</span> │\n",
       "├─────────────────────────────────┼────────────────────────┼───────────────┤\n",
       "│ global_max_pooling1d            │ (<span style=\"color: #00d7ff; text-decoration-color: #00d7ff\">None</span>, <span style=\"color: #00af00; text-decoration-color: #00af00\">128</span>)            │             <span style=\"color: #00af00; text-decoration-color: #00af00\">0</span> │\n",
       "│ (<span style=\"color: #0087ff; text-decoration-color: #0087ff\">GlobalMaxPooling1D</span>)            │                        │               │\n",
       "├─────────────────────────────────┼────────────────────────┼───────────────┤\n",
       "│ dense_4 (<span style=\"color: #0087ff; text-decoration-color: #0087ff\">Dense</span>)                 │ (<span style=\"color: #00d7ff; text-decoration-color: #00d7ff\">None</span>, <span style=\"color: #00af00; text-decoration-color: #00af00\">128</span>)            │        <span style=\"color: #00af00; text-decoration-color: #00af00\">16,512</span> │\n",
       "├─────────────────────────────────┼────────────────────────┼───────────────┤\n",
       "│ dropout_2 (<span style=\"color: #0087ff; text-decoration-color: #0087ff\">Dropout</span>)             │ (<span style=\"color: #00d7ff; text-decoration-color: #00d7ff\">None</span>, <span style=\"color: #00af00; text-decoration-color: #00af00\">128</span>)            │             <span style=\"color: #00af00; text-decoration-color: #00af00\">0</span> │\n",
       "├─────────────────────────────────┼────────────────────────┼───────────────┤\n",
       "│ dense_5 (<span style=\"color: #0087ff; text-decoration-color: #0087ff\">Dense</span>)                 │ (<span style=\"color: #00d7ff; text-decoration-color: #00d7ff\">None</span>, <span style=\"color: #00af00; text-decoration-color: #00af00\">5</span>)              │           <span style=\"color: #00af00; text-decoration-color: #00af00\">645</span> │\n",
       "└─────────────────────────────────┴────────────────────────┴───────────────┘\n",
       "</pre>\n"
      ],
      "text/plain": [
       "┏━━━━━━━━━━━━━━━━━━━━━━━━━━━━━━━━━┳━━━━━━━━━━━━━━━━━━━━━━━━┳━━━━━━━━━━━━━━━┓\n",
       "┃\u001b[1m \u001b[0m\u001b[1mLayer (type)                   \u001b[0m\u001b[1m \u001b[0m┃\u001b[1m \u001b[0m\u001b[1mOutput Shape          \u001b[0m\u001b[1m \u001b[0m┃\u001b[1m \u001b[0m\u001b[1m      Param #\u001b[0m\u001b[1m \u001b[0m┃\n",
       "┡━━━━━━━━━━━━━━━━━━━━━━━━━━━━━━━━━╇━━━━━━━━━━━━━━━━━━━━━━━━╇━━━━━━━━━━━━━━━┩\n",
       "│ input_layer_2 (\u001b[38;5;33mInputLayer\u001b[0m)      │ (\u001b[38;5;45mNone\u001b[0m, \u001b[38;5;45mNone\u001b[0m)           │             \u001b[38;5;34m0\u001b[0m │\n",
       "├─────────────────────────────────┼────────────────────────┼───────────────┤\n",
       "│ embedding_1 (\u001b[38;5;33mEmbedding\u001b[0m)         │ (\u001b[38;5;45mNone\u001b[0m, \u001b[38;5;45mNone\u001b[0m, \u001b[38;5;34m64\u001b[0m)       │     \u001b[38;5;34m1,927,872\u001b[0m │\n",
       "├─────────────────────────────────┼────────────────────────┼───────────────┤\n",
       "│ conv1d (\u001b[38;5;33mConv1D\u001b[0m)                 │ (\u001b[38;5;45mNone\u001b[0m, \u001b[38;5;45mNone\u001b[0m, \u001b[38;5;34m128\u001b[0m)      │        \u001b[38;5;34m41,088\u001b[0m │\n",
       "├─────────────────────────────────┼────────────────────────┼───────────────┤\n",
       "│ max_pooling1d (\u001b[38;5;33mMaxPooling1D\u001b[0m)    │ (\u001b[38;5;45mNone\u001b[0m, \u001b[38;5;45mNone\u001b[0m, \u001b[38;5;34m128\u001b[0m)      │             \u001b[38;5;34m0\u001b[0m │\n",
       "├─────────────────────────────────┼────────────────────────┼───────────────┤\n",
       "│ conv1d_1 (\u001b[38;5;33mConv1D\u001b[0m)               │ (\u001b[38;5;45mNone\u001b[0m, \u001b[38;5;45mNone\u001b[0m, \u001b[38;5;34m128\u001b[0m)      │        \u001b[38;5;34m82,048\u001b[0m │\n",
       "├─────────────────────────────────┼────────────────────────┼───────────────┤\n",
       "│ max_pooling1d_1 (\u001b[38;5;33mMaxPooling1D\u001b[0m)  │ (\u001b[38;5;45mNone\u001b[0m, \u001b[38;5;45mNone\u001b[0m, \u001b[38;5;34m128\u001b[0m)      │             \u001b[38;5;34m0\u001b[0m │\n",
       "├─────────────────────────────────┼────────────────────────┼───────────────┤\n",
       "│ conv1d_2 (\u001b[38;5;33mConv1D\u001b[0m)               │ (\u001b[38;5;45mNone\u001b[0m, \u001b[38;5;45mNone\u001b[0m, \u001b[38;5;34m128\u001b[0m)      │        \u001b[38;5;34m82,048\u001b[0m │\n",
       "├─────────────────────────────────┼────────────────────────┼───────────────┤\n",
       "│ global_max_pooling1d            │ (\u001b[38;5;45mNone\u001b[0m, \u001b[38;5;34m128\u001b[0m)            │             \u001b[38;5;34m0\u001b[0m │\n",
       "│ (\u001b[38;5;33mGlobalMaxPooling1D\u001b[0m)            │                        │               │\n",
       "├─────────────────────────────────┼────────────────────────┼───────────────┤\n",
       "│ dense_4 (\u001b[38;5;33mDense\u001b[0m)                 │ (\u001b[38;5;45mNone\u001b[0m, \u001b[38;5;34m128\u001b[0m)            │        \u001b[38;5;34m16,512\u001b[0m │\n",
       "├─────────────────────────────────┼────────────────────────┼───────────────┤\n",
       "│ dropout_2 (\u001b[38;5;33mDropout\u001b[0m)             │ (\u001b[38;5;45mNone\u001b[0m, \u001b[38;5;34m128\u001b[0m)            │             \u001b[38;5;34m0\u001b[0m │\n",
       "├─────────────────────────────────┼────────────────────────┼───────────────┤\n",
       "│ dense_5 (\u001b[38;5;33mDense\u001b[0m)                 │ (\u001b[38;5;45mNone\u001b[0m, \u001b[38;5;34m5\u001b[0m)              │           \u001b[38;5;34m645\u001b[0m │\n",
       "└─────────────────────────────────┴────────────────────────┴───────────────┘\n"
      ]
     },
     "metadata": {},
     "output_type": "display_data"
    },
    {
     "data": {
      "text/html": [
       "<pre style=\"white-space:pre;overflow-x:auto;line-height:normal;font-family:Menlo,'DejaVu Sans Mono',consolas,'Courier New',monospace\"><span style=\"font-weight: bold\"> Total params: </span><span style=\"color: #00af00; text-decoration-color: #00af00\">2,150,213</span> (8.20 MB)\n",
       "</pre>\n"
      ],
      "text/plain": [
       "\u001b[1m Total params: \u001b[0m\u001b[38;5;34m2,150,213\u001b[0m (8.20 MB)\n"
      ]
     },
     "metadata": {},
     "output_type": "display_data"
    },
    {
     "data": {
      "text/html": [
       "<pre style=\"white-space:pre;overflow-x:auto;line-height:normal;font-family:Menlo,'DejaVu Sans Mono',consolas,'Courier New',monospace\"><span style=\"font-weight: bold\"> Trainable params: </span><span style=\"color: #00af00; text-decoration-color: #00af00\">2,150,213</span> (8.20 MB)\n",
       "</pre>\n"
      ],
      "text/plain": [
       "\u001b[1m Trainable params: \u001b[0m\u001b[38;5;34m2,150,213\u001b[0m (8.20 MB)\n"
      ]
     },
     "metadata": {},
     "output_type": "display_data"
    },
    {
     "data": {
      "text/html": [
       "<pre style=\"white-space:pre;overflow-x:auto;line-height:normal;font-family:Menlo,'DejaVu Sans Mono',consolas,'Courier New',monospace\"><span style=\"font-weight: bold\"> Non-trainable params: </span><span style=\"color: #00af00; text-decoration-color: #00af00\">0</span> (0.00 B)\n",
       "</pre>\n"
      ],
      "text/plain": [
       "\u001b[1m Non-trainable params: \u001b[0m\u001b[38;5;34m0\u001b[0m (0.00 B)\n"
      ]
     },
     "metadata": {},
     "output_type": "display_data"
    }
   ],
   "source": [
    "# Printing the model summary\n",
    "\n",
    "model_CNN.summary()"
   ]
  },
  {
   "cell_type": "code",
   "execution_count": 91,
   "metadata": {},
   "outputs": [],
   "source": [
    "# Saving the checkpoint to save the best model\n",
    "\n",
    "checkpoint = tf.keras.callbacks.ModelCheckpoint(\n",
    "    filepath='model_checkpoint_CNN.keras',  # Path to save the model file with .keras extension\n",
    "    monitor='val_loss',                 # Metric to monitor\n",
    "    verbose=1,                          # Verbosity mode (0 or 1)\n",
    "    save_best_only=True,                # Only save the best model\n",
    "    mode='min',                         # Mode for the monitored metric\n",
    "    save_weights_only=False,            # Whether to save only the model weights\n",
    "    save_freq='epoch'                   # Save every epoch\n",
    ")"
   ]
  },
  {
   "cell_type": "code",
   "execution_count": 92,
   "metadata": {},
   "outputs": [],
   "source": [
    "# Compiling the CNN Model\n",
    "\n",
    "model_CNN.compile(\n",
    "    optimizer='rmsprop',                    # Optimizer: RMSprop is an adaptive learning rate optimizer\n",
    "    loss='sparse_categorical_crossentropy', # Loss function: suitable for multi-class classification with integer labels\n",
    "    metrics=['accuracy']                    # Metrics: the model's performance will be evaluated based on accuracy\n",
    ")"
   ]
  },
  {
   "cell_type": "code",
   "execution_count": 93,
   "metadata": {},
   "outputs": [
    {
     "name": "stdout",
     "output_type": "stream",
     "text": [
      "Epoch 1/20\n",
      "\u001b[1m17/17\u001b[0m \u001b[32m━━━━━━━━━━━━━━━━━━━━\u001b[0m\u001b[37m\u001b[0m \u001b[1m0s\u001b[0m 590ms/step - accuracy: 0.2635 - loss: 1.5858\n",
      "Epoch 1: val_loss improved from inf to 1.49486, saving model to model_checkpoint_CNN.keras\n",
      "\u001b[1m17/17\u001b[0m \u001b[32m━━━━━━━━━━━━━━━━━━━━\u001b[0m\u001b[37m\u001b[0m \u001b[1m11s\u001b[0m 643ms/step - accuracy: 0.2645 - loss: 1.5844 - val_accuracy: 0.3298 - val_loss: 1.4949\n",
      "Epoch 2/20\n",
      "\u001b[1m17/17\u001b[0m \u001b[32m━━━━━━━━━━━━━━━━━━━━\u001b[0m\u001b[37m\u001b[0m \u001b[1m0s\u001b[0m 522ms/step - accuracy: 0.3395 - loss: 1.4515\n",
      "Epoch 2: val_loss improved from 1.49486 to 1.37952, saving model to model_checkpoint_CNN.keras\n",
      "\u001b[1m17/17\u001b[0m \u001b[32m━━━━━━━━━━━━━━━━━━━━\u001b[0m\u001b[37m\u001b[0m \u001b[1m10s\u001b[0m 569ms/step - accuracy: 0.3398 - loss: 1.4509 - val_accuracy: 0.3849 - val_loss: 1.3795\n",
      "Epoch 3/20\n",
      "\u001b[1m17/17\u001b[0m \u001b[32m━━━━━━━━━━━━━━━━━━━━\u001b[0m\u001b[37m\u001b[0m \u001b[1m0s\u001b[0m 513ms/step - accuracy: 0.3847 - loss: 1.3460\n",
      "Epoch 3: val_loss improved from 1.37952 to 1.31943, saving model to model_checkpoint_CNN.keras\n",
      "\u001b[1m17/17\u001b[0m \u001b[32m━━━━━━━━━━━━━━━━━━━━\u001b[0m\u001b[37m\u001b[0m \u001b[1m10s\u001b[0m 561ms/step - accuracy: 0.3841 - loss: 1.3455 - val_accuracy: 0.3948 - val_loss: 1.3194\n",
      "Epoch 4/20\n",
      "\u001b[1m17/17\u001b[0m \u001b[32m━━━━━━━━━━━━━━━━━━━━\u001b[0m\u001b[37m\u001b[0m \u001b[1m0s\u001b[0m 519ms/step - accuracy: 0.3988 - loss: 1.3128\n",
      "Epoch 4: val_loss did not improve from 1.31943\n",
      "\u001b[1m17/17\u001b[0m \u001b[32m━━━━━━━━━━━━━━━━━━━━\u001b[0m\u001b[37m\u001b[0m \u001b[1m10s\u001b[0m 567ms/step - accuracy: 0.3988 - loss: 1.3118 - val_accuracy: 0.3630 - val_loss: 1.4272\n",
      "Epoch 5/20\n",
      "\u001b[1m17/17\u001b[0m \u001b[32m━━━━━━━━━━━━━━━━━━━━\u001b[0m\u001b[37m\u001b[0m \u001b[1m0s\u001b[0m 517ms/step - accuracy: 0.4367 - loss: 1.2735\n",
      "Epoch 5: val_loss improved from 1.31943 to 1.27202, saving model to model_checkpoint_CNN.keras\n",
      "\u001b[1m17/17\u001b[0m \u001b[32m━━━━━━━━━━━━━━━━━━━━\u001b[0m\u001b[37m\u001b[0m \u001b[1m10s\u001b[0m 570ms/step - accuracy: 0.4364 - loss: 1.2732 - val_accuracy: 0.4145 - val_loss: 1.2720\n",
      "Epoch 6/20\n",
      "\u001b[1m17/17\u001b[0m \u001b[32m━━━━━━━━━━━━━━━━━━━━\u001b[0m\u001b[37m\u001b[0m \u001b[1m0s\u001b[0m 512ms/step - accuracy: 0.4575 - loss: 1.2024\n",
      "Epoch 6: val_loss improved from 1.27202 to 1.24474, saving model to model_checkpoint_CNN.keras\n",
      "\u001b[1m17/17\u001b[0m \u001b[32m━━━━━━━━━━━━━━━━━━━━\u001b[0m\u001b[37m\u001b[0m \u001b[1m10s\u001b[0m 561ms/step - accuracy: 0.4572 - loss: 1.2023 - val_accuracy: 0.4216 - val_loss: 1.2447\n",
      "Epoch 7/20\n",
      "\u001b[1m17/17\u001b[0m \u001b[32m━━━━━━━━━━━━━━━━━━━━\u001b[0m\u001b[37m\u001b[0m \u001b[1m0s\u001b[0m 542ms/step - accuracy: 0.4736 - loss: 1.1544\n",
      "Epoch 7: val_loss improved from 1.24474 to 1.23375, saving model to model_checkpoint_CNN.keras\n",
      "\u001b[1m17/17\u001b[0m \u001b[32m━━━━━━━━━━━━━━━━━━━━\u001b[0m\u001b[37m\u001b[0m \u001b[1m10s\u001b[0m 590ms/step - accuracy: 0.4730 - loss: 1.1556 - val_accuracy: 0.4470 - val_loss: 1.2337\n",
      "Epoch 8/20\n",
      "\u001b[1m17/17\u001b[0m \u001b[32m━━━━━━━━━━━━━━━━━━━━\u001b[0m\u001b[37m\u001b[0m \u001b[1m0s\u001b[0m 521ms/step - accuracy: 0.5075 - loss: 1.1122\n",
      "Epoch 8: val_loss did not improve from 1.23375\n",
      "\u001b[1m17/17\u001b[0m \u001b[32m━━━━━━━━━━━━━━━━━━━━\u001b[0m\u001b[37m\u001b[0m \u001b[1m10s\u001b[0m 569ms/step - accuracy: 0.5073 - loss: 1.1123 - val_accuracy: 0.4018 - val_loss: 1.4835\n",
      "Epoch 9/20\n",
      "\u001b[1m17/17\u001b[0m \u001b[32m━━━━━━━━━━━━━━━━━━━━\u001b[0m\u001b[37m\u001b[0m \u001b[1m0s\u001b[0m 522ms/step - accuracy: 0.5426 - loss: 1.0407\n",
      "Epoch 9: val_loss did not improve from 1.23375\n",
      "\u001b[1m17/17\u001b[0m \u001b[32m━━━━━━━━━━━━━━━━━━━━\u001b[0m\u001b[37m\u001b[0m \u001b[1m10s\u001b[0m 569ms/step - accuracy: 0.5421 - loss: 1.0413 - val_accuracy: 0.4654 - val_loss: 1.2537\n",
      "Epoch 10/20\n",
      "\u001b[1m17/17\u001b[0m \u001b[32m━━━━━━━━━━━━━━━━━━━━\u001b[0m\u001b[37m\u001b[0m \u001b[1m0s\u001b[0m 526ms/step - accuracy: 0.5487 - loss: 1.0080\n",
      "Epoch 10: val_loss did not improve from 1.23375\n",
      "\u001b[1m17/17\u001b[0m \u001b[32m━━━━━━━━━━━━━━━━━━━━\u001b[0m\u001b[37m\u001b[0m \u001b[1m10s\u001b[0m 573ms/step - accuracy: 0.5489 - loss: 1.0086 - val_accuracy: 0.4435 - val_loss: 1.3792\n",
      "Epoch 11/20\n",
      "\u001b[1m17/17\u001b[0m \u001b[32m━━━━━━━━━━━━━━━━━━━━\u001b[0m\u001b[37m\u001b[0m \u001b[1m0s\u001b[0m 514ms/step - accuracy: 0.5834 - loss: 0.9599\n",
      "Epoch 11: val_loss did not improve from 1.23375\n",
      "\u001b[1m17/17\u001b[0m \u001b[32m━━━━━━━━━━━━━━━━━━━━\u001b[0m\u001b[37m\u001b[0m \u001b[1m10s\u001b[0m 561ms/step - accuracy: 0.5819 - loss: 0.9632 - val_accuracy: 0.4746 - val_loss: 1.2397\n",
      "Epoch 12/20\n",
      "\u001b[1m17/17\u001b[0m \u001b[32m━━━━━━━━━━━━━━━━━━━━\u001b[0m\u001b[37m\u001b[0m \u001b[1m0s\u001b[0m 515ms/step - accuracy: 0.6164 - loss: 0.8826\n",
      "Epoch 12: val_loss did not improve from 1.23375\n",
      "\u001b[1m17/17\u001b[0m \u001b[32m━━━━━━━━━━━━━━━━━━━━\u001b[0m\u001b[37m\u001b[0m \u001b[1m10s\u001b[0m 561ms/step - accuracy: 0.6157 - loss: 0.8829 - val_accuracy: 0.4562 - val_loss: 1.2848\n",
      "Epoch 13/20\n",
      "\u001b[1m17/17\u001b[0m \u001b[32m━━━━━━━━━━━━━━━━━━━━\u001b[0m\u001b[37m\u001b[0m \u001b[1m0s\u001b[0m 515ms/step - accuracy: 0.6125 - loss: 0.8620\n",
      "Epoch 13: val_loss did not improve from 1.23375\n",
      "\u001b[1m17/17\u001b[0m \u001b[32m━━━━━━━━━━━━━━━━━━━━\u001b[0m\u001b[37m\u001b[0m \u001b[1m10s\u001b[0m 562ms/step - accuracy: 0.6121 - loss: 0.8631 - val_accuracy: 0.4880 - val_loss: 1.3020\n",
      "Epoch 14/20\n",
      "\u001b[1m17/17\u001b[0m \u001b[32m━━━━━━━━━━━━━━━━━━━━\u001b[0m\u001b[37m\u001b[0m \u001b[1m0s\u001b[0m 516ms/step - accuracy: 0.6559 - loss: 0.7930\n",
      "Epoch 14: val_loss did not improve from 1.23375\n",
      "\u001b[1m17/17\u001b[0m \u001b[32m━━━━━━━━━━━━━━━━━━━━\u001b[0m\u001b[37m\u001b[0m \u001b[1m10s\u001b[0m 562ms/step - accuracy: 0.6551 - loss: 0.7940 - val_accuracy: 0.4760 - val_loss: 1.3842\n",
      "Epoch 15/20\n",
      "\u001b[1m17/17\u001b[0m \u001b[32m━━━━━━━━━━━━━━━━━━━━\u001b[0m\u001b[37m\u001b[0m \u001b[1m0s\u001b[0m 515ms/step - accuracy: 0.6655 - loss: 0.7496\n",
      "Epoch 15: val_loss did not improve from 1.23375\n",
      "\u001b[1m17/17\u001b[0m \u001b[32m━━━━━━━━━━━━━━━━━━━━\u001b[0m\u001b[37m\u001b[0m \u001b[1m10s\u001b[0m 565ms/step - accuracy: 0.6653 - loss: 0.7503 - val_accuracy: 0.4619 - val_loss: 1.4141\n",
      "Epoch 16/20\n",
      "\u001b[1m17/17\u001b[0m \u001b[32m━━━━━━━━━━━━━━━━━━━━\u001b[0m\u001b[37m\u001b[0m \u001b[1m0s\u001b[0m 514ms/step - accuracy: 0.6797 - loss: 0.7082\n",
      "Epoch 16: val_loss did not improve from 1.23375\n",
      "\u001b[1m17/17\u001b[0m \u001b[32m━━━━━━━━━━━━━━━━━━━━\u001b[0m\u001b[37m\u001b[0m \u001b[1m10s\u001b[0m 562ms/step - accuracy: 0.6789 - loss: 0.7103 - val_accuracy: 0.4831 - val_loss: 1.4495\n",
      "Epoch 17/20\n",
      "\u001b[1m17/17\u001b[0m \u001b[32m━━━━━━━━━━━━━━━━━━━━\u001b[0m\u001b[37m\u001b[0m \u001b[1m0s\u001b[0m 518ms/step - accuracy: 0.7154 - loss: 0.6513\n",
      "Epoch 17: val_loss did not improve from 1.23375\n",
      "\u001b[1m17/17\u001b[0m \u001b[32m━━━━━━━━━━━━━━━━━━━━\u001b[0m\u001b[37m\u001b[0m \u001b[1m10s\u001b[0m 565ms/step - accuracy: 0.7142 - loss: 0.6538 - val_accuracy: 0.5071 - val_loss: 1.4954\n",
      "Epoch 18/20\n",
      "\u001b[1m17/17\u001b[0m \u001b[32m━━━━━━━━━━━━━━━━━━━━\u001b[0m\u001b[37m\u001b[0m \u001b[1m0s\u001b[0m 514ms/step - accuracy: 0.7246 - loss: 0.6118\n",
      "Epoch 18: val_loss did not improve from 1.23375\n",
      "\u001b[1m17/17\u001b[0m \u001b[32m━━━━━━━━━━━━━━━━━━━━\u001b[0m\u001b[37m\u001b[0m \u001b[1m10s\u001b[0m 561ms/step - accuracy: 0.7243 - loss: 0.6131 - val_accuracy: 0.5064 - val_loss: 1.5830\n",
      "Epoch 19/20\n",
      "\u001b[1m17/17\u001b[0m \u001b[32m━━━━━━━━━━━━━━━━━━━━\u001b[0m\u001b[37m\u001b[0m \u001b[1m0s\u001b[0m 549ms/step - accuracy: 0.7477 - loss: 0.5715\n",
      "Epoch 19: val_loss did not improve from 1.23375\n",
      "\u001b[1m17/17\u001b[0m \u001b[32m━━━━━━━━━━━━━━━━━━━━\u001b[0m\u001b[37m\u001b[0m \u001b[1m10s\u001b[0m 595ms/step - accuracy: 0.7474 - loss: 0.5720 - val_accuracy: 0.5212 - val_loss: 1.6390\n",
      "Epoch 20/20\n",
      "\u001b[1m17/17\u001b[0m \u001b[32m━━━━━━━━━━━━━━━━━━━━\u001b[0m\u001b[37m\u001b[0m \u001b[1m0s\u001b[0m 518ms/step - accuracy: 0.7326 - loss: 0.6079\n",
      "Epoch 20: val_loss did not improve from 1.23375\n",
      "\u001b[1m17/17\u001b[0m \u001b[32m━━━━━━━━━━━━━━━━━━━━\u001b[0m\u001b[37m\u001b[0m \u001b[1m10s\u001b[0m 564ms/step - accuracy: 0.7331 - loss: 0.6069 - val_accuracy: 0.5318 - val_loss: 1.6563\n"
     ]
    }
   ],
   "source": [
    "# Train the CNN model using the training data and validate it using the validation data\n",
    "\n",
    "history = model_CNN.fit(\n",
    "    X_train,               # Training data features (input sequences)\n",
    "    y_train,               # Training data labels (integer-encoded class labels)\n",
    "    epochs=20,             # Number of epochs (complete passes through the training data)\n",
    "    batch_size=256,        # Number of samples per gradient update (mini-batch size)\n",
    "    validation_data=(X_val, y_val),  # Validation data and labels for evaluating the model after each epoch\n",
    "    verbose=1,             # Verbosity mode (1 = progress bar, 0 = silent, 2 = one line per epoch)\n",
    "    callbacks=[checkpoint] # List of callback functions to apply during training (e.g., saving model checkpoints)\n",
    ")"
   ]
  },
  {
   "cell_type": "code",
   "execution_count": 94,
   "metadata": {},
   "outputs": [
    {
     "data": {
      "image/png": "[encoded data removed]",
      "text/plain": [
       "<Figure size 640x480 with 1 Axes>"
      ]
     },
     "metadata": {},
     "output_type": "display_data"
    }
   ],
   "source": [
    "# Printing the model stats\n",
    "\n",
    "plt.plot(history.history['accuracy'])\n",
    "plt.plot(history.history['val_accuracy'])\n",
    "plt.title('CNN model accuracy')\n",
    "plt.ylabel('accuracy')\n",
    "plt.xlabel('epoch')\n",
    "plt.legend(['training', 'validation'], loc='best')\n",
    "plt.show()"
   ]
  },
  {
   "cell_type": "code",
   "execution_count": 95,
   "metadata": {},
   "outputs": [],
   "source": [
    "# Loading the model weights from the best checkpoint\n",
    "\n",
    "model_CNN.load_weights('model_checkpoint_CNN.keras')"
   ]
  },
  {
   "cell_type": "code",
   "execution_count": 96,
   "metadata": {},
   "outputs": [
    {
     "name": "stdout",
     "output_type": "stream",
     "text": [
      "\u001b[1m1/1\u001b[0m \u001b[32m━━━━━━━━━━━━━━━━━━━━\u001b[0m\u001b[37m\u001b[0m \u001b[1m0s\u001b[0m 43ms/step\n"
     ]
    },
    {
     "data": {
      "text/plain": [
       "array([[0.03414611, 0.17513803, 0.0045485 , 0.07412507, 0.7120423 ]],\n",
       "      dtype=float32)"
      ]
     },
     "execution_count": 96,
     "metadata": {},
     "output_type": "execute_result"
    }
   ],
   "source": [
    "# Predicting the song genre using lyrics\n",
    "\n",
    "predict_genre(model_CNN, song_lyrics)"
   ]
  },
  {
   "cell_type": "code",
   "execution_count": 97,
   "metadata": {},
   "outputs": [
    {
     "name": "stdout",
     "output_type": "stream",
     "text": [
      "\u001b[1m59/59\u001b[0m \u001b[32m━━━━━━━━━━━━━━━━━━━━\u001b[0m\u001b[37m\u001b[0m \u001b[1m1s\u001b[0m 20ms/step\n"
     ]
    }
   ],
   "source": [
    "# Predict class probabilities\n",
    "y_pred_proba = model_CNN.predict(X_test)\n",
    "\n",
    "# Convert probabilities to class labels\n",
    "y_pred_classes = np.argmax(y_pred_proba, axis=1)"
   ]
  },
  {
   "cell_type": "code",
   "execution_count": 98,
   "metadata": {},
   "outputs": [
    {
     "name": "stdout",
     "output_type": "stream",
     "text": [
      "\u001b[1m59/59\u001b[0m \u001b[32m━━━━━━━━━━━━━━━━━━━━\u001b[0m\u001b[37m\u001b[0m \u001b[1m1s\u001b[0m 20ms/step - accuracy: 0.4289 - loss: 1.2695\n"
     ]
    }
   ],
   "source": [
    "# Storing the loss and the accuracy of the model\n",
    "cnn_loss, cnn_accuracy = model_CNN.evaluate(X_test, y_test)\n",
    "\n",
    "# Calculate additional metrics\n",
    "precision = precision_score(y_test_classes, y_pred, average='weighted')\n",
    "recall = recall_score(y_test_classes, y_pred, average='weighted')\n",
    "f1 = f1_score(y_test_classes, y_pred, average='weighted')\n",
    "\n",
    "# Confusion Matrix\n",
    "conf_matrix = confusion_matrix(y_test_classes, y_pred)\n",
    "\n",
    "# Precision Score\n",
    "precision = precision_score(y_test, y_pred_classes, average='weighted')\n",
    "\n",
    "# Recall Score\n",
    "recall = recall_score(y_test, y_pred_classes, average='weighted')\n",
    "\n",
    "# F1 Score\n",
    "f1 = f1_score(y_test, y_pred_classes, average='weighted')\n",
    "mcc = matthews_corrcoef(y_test, y_pred_classes)\n",
    "\n",
    "# Cohen's Kappa\n",
    "kappa = cohen_kappa_score(y_test, y_pred_classes)\n",
    "\n",
    "rmse = np.sqrt(mean_squared_error(y_test, y_pred_positive_proba))\n",
    "rss = np.sum(np.square(y_test - y_pred_positive_proba))\n",
    "mape = mean_absolute_percentage_error(y_test, y_pred_positive_proba)\n",
    "\n",
    "# Extract TP, TN, FP, FN\n",
    "TP = conf_matrix[1, 1]  # True Positive: correctly predicted event values\n",
    "TN = conf_matrix[0, 0]  # True Negative: correctly predicted no-event values\n",
    "FP = conf_matrix[0, 1]  # False Positive: incorrectly predicted event values\n",
    "FN = conf_matrix[1, 0]  # False Negative: incorrectly predicted no-event values\n",
    "\n",
    "# Calculate Sensitivity (Recall or True Positive Rate)\n",
    "sensitivity = TP / float(TP + FN)\n",
    "\n",
    "# Calculate Specificity (True Negative Rate)\n",
    "specificity = TN / float(TN + FP)"
   ]
  },
  {
   "cell_type": "code",
   "execution_count": 99,
   "metadata": {},
   "outputs": [],
   "source": [
    "# Store the CNN model stats in a dictionary\n",
    "\n",
    "cnn_stats = {\n",
    "    'Accuracy': cnn_accuracy * 100,\n",
    "    'Loss': cnn_loss * 100,\n",
    "    'Precision': precision,\n",
    "    'Recall': recall,\n",
    "    'F1-Score': f1,\n",
    "    'Matthews Correlation Coefficient': mcc,\n",
    "    'Cohen\\'s Kappa': kappa,\n",
    "    'RMSE': rmse,\n",
    "    'RSS': rss,\n",
    "    'MAPE': mape,\n",
    "    'Sensitivity': sensitivity,\n",
    "    'Specificity': specificity\n",
    "}"
   ]
  },
  {
   "cell_type": "code",
   "execution_count": 100,
   "metadata": {},
   "outputs": [
    {
     "name": "stdout",
     "output_type": "stream",
     "text": [
      "CNN Model \n",
      "--------------------------------\n",
      "Accuracy: 43.59%\n",
      "Loss: 125.43%\n",
      "Precision: 0.43\n",
      "Recall: 0.436\n",
      "F1-Score: 0.398\n",
      "Matthew's Correlation Coefficient: 0.317\n",
      "Cohen's Kappa: 0.295\n",
      "RMSE: 2.361\n",
      "RSS: 10525.010\n",
      "MAPE: 245617597577598.500\n",
      "Sensitivity (Recall or True Positive Rate): 0.910\n",
      "Specificity (True Negative Rate): 0.150\n"
     ]
    }
   ],
   "source": [
    "# Printing the CNN model statistics\n",
    "\n",
    "print(f\"CNN Model \\n--------------------------------\")\n",
    "print(f\"Accuracy: {cnn_accuracy * 100:.2f}%\")\n",
    "print(f\"Loss: {cnn_loss * 100:.2f}%\")\n",
    "print(f\"Precision: {precision:.2f}\")\n",
    "print(f\"Recall: {recall:.3f}\")\n",
    "print(f\"F1-Score: {f1:.3f}\")\n",
    "print(f\"Matthew's Correlation Coefficient: {mcc:.3f}\")\n",
    "print(f\"Cohen's Kappa: {kappa:.3f}\")\n",
    "print(f\"RMSE: {rmse:.3f}\")\n",
    "print(f\"RSS: {rss:.3f}\")\n",
    "print(f\"MAPE: {mape:.3f}\")\n",
    "print(f\"Sensitivity (Recall or True Positive Rate): {sensitivity:.3f}\")\n",
    "print(f\"Specificity (True Negative Rate): {specificity:.3f}\")"
   ]
  },
  {
   "cell_type": "code",
   "execution_count": 101,
   "metadata": {},
   "outputs": [
    {
     "data": {
      "image/png": "[encoded data removed]",
      "text/plain": [
       "<Figure size 800x600 with 2 Axes>"
      ]
     },
     "metadata": {},
     "output_type": "display_data"
    }
   ],
   "source": [
    "# Plot Confusion Matrix as a Heatmap\n",
    "plt.figure(figsize=(8, 6))\n",
    "sns.heatmap(conf_matrix, annot=True, fmt='d', cmap='magma', xticklabels=class_names, yticklabels=class_names)\n",
    "plt.title('Confusion Matrix CNN Model')\n",
    "plt.xlabel('Predicted Label')\n",
    "plt.ylabel('True Label')\n",
    "plt.show()"
   ]
  },
  {
   "cell_type": "code",
   "execution_count": 102,
   "metadata": {},
   "outputs": [
    {
     "name": "stdout",
     "output_type": "stream",
     "text": [
      "Classification Report:\n",
      "              precision    recall  f1-score   support\n",
      "\n",
      "           0       0.37      0.08      0.13       378\n",
      "           1       0.33      0.43      0.37       377\n",
      "           2       0.46      0.85      0.59       378\n",
      "           3       0.70      0.34      0.46       377\n",
      "           4       0.79      0.90      0.84       378\n",
      "\n",
      "    accuracy                           0.52      1888\n",
      "   macro avg       0.53      0.52      0.48      1888\n",
      "weighted avg       0.53      0.52      0.48      1888\n",
      "\n"
     ]
    }
   ],
   "source": [
    "# Classification Report\n",
    "class_report = classification_report(y_test_classes, y_pred)\n",
    "print(\"Classification Report:\")\n",
    "print(class_report)"
   ]
  },
  {
   "cell_type": "markdown",
   "metadata": {},
   "source": [
    "## Final Results"
   ]
  },
  {
   "cell_type": "code",
   "execution_count": 103,
   "metadata": {},
   "outputs": [],
   "source": [
    "# Storing the model stats in a dictionary\n",
    "\n",
    "all_model_stats = {\n",
    "    'DNN': dnn_stats,\n",
    "    'XGBoost': xgb_stats,\n",
    "    'RNN': rnn_stats,\n",
    "    'CNN': cnn_stats,\n",
    "}\n",
    "\n",
    "# Create DataFrame\n",
    "stats_df = pd.DataFrame(all_model_stats)"
   ]
  },
  {
   "cell_type": "code",
   "execution_count": 104,
   "metadata": {},
   "outputs": [
    {
     "name": "stdout",
     "output_type": "stream",
     "text": [
      "Model statistics and comparison\n"
     ]
    },
    {
     "data": {
      "text/html": [
       "<div>\n",
       "<style scoped>\n",
       "    .dataframe tbody tr th:only-of-type {\n",
       "        vertical-align: middle;\n",
       "    }\n",
       "\n",
       "    .dataframe tbody tr th {\n",
       "        vertical-align: top;\n",
       "    }\n",
       "\n",
       "    .dataframe thead th {\n",
       "        text-align: right;\n",
       "    }\n",
       "</style>\n",
       "<table border=\"1\" class=\"dataframe\">\n",
       "  <thead>\n",
       "    <tr style=\"text-align: right;\">\n",
       "      <th></th>\n",
       "      <th>DNN</th>\n",
       "      <th>XGBoost</th>\n",
       "      <th>RNN</th>\n",
       "      <th>CNN</th>\n",
       "    </tr>\n",
       "  </thead>\n",
       "  <tbody>\n",
       "    <tr>\n",
       "      <th>Accuracy</th>\n",
       "      <td>6.445975e+01</td>\n",
       "      <td>6.922669e+01</td>\n",
       "      <td>5.206568e+01</td>\n",
       "      <td>4.359110e+01</td>\n",
       "    </tr>\n",
       "    <tr>\n",
       "      <th>Loss</th>\n",
       "      <td>9.007124e+01</td>\n",
       "      <td>8.213886e+01</td>\n",
       "      <td>1.175494e+02</td>\n",
       "      <td>1.254326e+02</td>\n",
       "    </tr>\n",
       "    <tr>\n",
       "      <th>Precision</th>\n",
       "      <td>6.626307e-01</td>\n",
       "      <td>6.626307e-01</td>\n",
       "      <td>5.287361e-01</td>\n",
       "      <td>4.344876e-01</td>\n",
       "    </tr>\n",
       "    <tr>\n",
       "      <th>Recall</th>\n",
       "      <td>6.445975e-01</td>\n",
       "      <td>6.445975e-01</td>\n",
       "      <td>5.206568e-01</td>\n",
       "      <td>4.359110e-01</td>\n",
       "    </tr>\n",
       "    <tr>\n",
       "      <th>F1-Score</th>\n",
       "      <td>6.440046e-01</td>\n",
       "      <td>6.440046e-01</td>\n",
       "      <td>4.799706e-01</td>\n",
       "      <td>3.980426e-01</td>\n",
       "    </tr>\n",
       "    <tr>\n",
       "      <th>Matthews Correlation Coefficient</th>\n",
       "      <td>5.605302e-01</td>\n",
       "      <td>5.605302e-01</td>\n",
       "      <td>5.605302e-01</td>\n",
       "      <td>3.170302e-01</td>\n",
       "    </tr>\n",
       "    <tr>\n",
       "      <th>Cohen's Kappa</th>\n",
       "      <td>5.557142e-01</td>\n",
       "      <td>5.557142e-01</td>\n",
       "      <td>5.557142e-01</td>\n",
       "      <td>2.948244e-01</td>\n",
       "    </tr>\n",
       "    <tr>\n",
       "      <th>RMSE</th>\n",
       "      <td>1.201606e+00</td>\n",
       "      <td>1.201606e+00</td>\n",
       "      <td>2.361078e+00</td>\n",
       "      <td>2.361078e+00</td>\n",
       "    </tr>\n",
       "    <tr>\n",
       "      <th>RSS</th>\n",
       "      <td>2.726000e+03</td>\n",
       "      <td>2.726000e+03</td>\n",
       "      <td>1.052501e+04</td>\n",
       "      <td>1.052501e+04</td>\n",
       "    </tr>\n",
       "    <tr>\n",
       "      <th>MAPE</th>\n",
       "      <td>6.464383e+14</td>\n",
       "      <td>6.464383e+14</td>\n",
       "      <td>2.456176e+14</td>\n",
       "      <td>2.456176e+14</td>\n",
       "    </tr>\n",
       "    <tr>\n",
       "      <th>Sensitivity</th>\n",
       "      <td>4.948454e-01</td>\n",
       "      <td>7.228070e-01</td>\n",
       "      <td>7.228070e-01</td>\n",
       "      <td>9.101124e-01</td>\n",
       "    </tr>\n",
       "    <tr>\n",
       "      <th>Specificity</th>\n",
       "      <td>7.395498e-01</td>\n",
       "      <td>6.573427e-01</td>\n",
       "      <td>6.573427e-01</td>\n",
       "      <td>1.502591e-01</td>\n",
       "    </tr>\n",
       "  </tbody>\n",
       "</table>\n",
       "</div>"
      ],
      "text/plain": [
       "                                           DNN       XGBoost           RNN  \\\n",
       "Accuracy                          6.445975e+01  6.922669e+01  5.206568e+01   \n",
       "Loss                              9.007124e+01  8.213886e+01  1.175494e+02   \n",
       "Precision                         6.626307e-01  6.626307e-01  5.287361e-01   \n",
       "Recall                            6.445975e-01  6.445975e-01  5.206568e-01   \n",
       "F1-Score                          6.440046e-01  6.440046e-01  4.799706e-01   \n",
       "Matthews Correlation Coefficient  5.605302e-01  5.605302e-01  5.605302e-01   \n",
       "Cohen's Kappa                     5.557142e-01  5.557142e-01  5.557142e-01   \n",
       "RMSE                              1.201606e+00  1.201606e+00  2.361078e+00   \n",
       "RSS                               2.726000e+03  2.726000e+03  1.052501e+04   \n",
       "MAPE                              6.464383e+14  6.464383e+14  2.456176e+14   \n",
       "Sensitivity                       4.948454e-01  7.228070e-01  7.228070e-01   \n",
       "Specificity                       7.395498e-01  6.573427e-01  6.573427e-01   \n",
       "\n",
       "                                           CNN  \n",
       "Accuracy                          4.359110e+01  \n",
       "Loss                              1.254326e+02  \n",
       "Precision                         4.344876e-01  \n",
       "Recall                            4.359110e-01  \n",
       "F1-Score                          3.980426e-01  \n",
       "Matthews Correlation Coefficient  3.170302e-01  \n",
       "Cohen's Kappa                     2.948244e-01  \n",
       "RMSE                              2.361078e+00  \n",
       "RSS                               1.052501e+04  \n",
       "MAPE                              2.456176e+14  \n",
       "Sensitivity                       9.101124e-01  \n",
       "Specificity                       1.502591e-01  "
      ]
     },
     "execution_count": 104,
     "metadata": {},
     "output_type": "execute_result"
    }
   ],
   "source": [
    "# Printing all of the model stats\n",
    "\n",
    "print(\"Model statistics and comparison\")\n",
    "stats_df"
   ]
  }
 ],
 "metadata": {
  "kernelspec": {
   "display_name": "Python 3 (ipykernel)",
   "language": "python",
   "name": "python3"
  },
  "language_info": {
   "codemirror_mode": {
    "name": "ipython",
    "version": 3
   },
   "file_extension": ".py",
   "mimetype": "text/x-python",
   "name": "python",
   "nbconvert_exporter": "python",
   "pygments_lexer": "ipython3",
   "version": "3.11.9"
  }
 },
 "nbformat": 4,
 "nbformat_minor": 4
}
